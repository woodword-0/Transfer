{
  "cells": [
    {
      "cell_type": "code",
      "source": [
        "from azure.identity import DefaultAzureCredential\r\n",
        "from azure.storage.blob import BlobServiceClient, BlobClient, ContainerClient\r\n",
        "import os"
      ],
      "outputs": [
        {
          "output_type": "display_data",
          "data": {
            "application/vnd.livy.statement-meta+json": {
              "spark_pool": "InspirePool01",
              "session_id": "82",
              "statement_id": 15,
              "state": "finished",
              "livy_statement_state": "available",
              "queued_time": "2023-09-29T15:09:13.6466833Z",
              "session_start_time": null,
              "execution_start_time": "2023-09-29T15:09:13.8192721Z",
              "execution_finish_time": "2023-09-29T15:09:14.0292301Z",
              "spark_jobs": null,
              "parent_msg_id": "900538af-eebb-42af-be88-a558c7c67b84"
            },
            "text/plain": "StatementMeta(InspirePool01, 82, 15, Finished, Available)"
          },
          "metadata": {}
        }
      ],
      "execution_count": 14,
      "metadata": {}
    },
    {
      "cell_type": "code",
      "source": [
        "current_directory = os.getcwd()\r\n",
        "current_directory"
      ],
      "outputs": [
        {
          "output_type": "display_data",
          "data": {
            "application/vnd.livy.statement-meta+json": {
              "spark_pool": "InspirePool01",
              "session_id": "82",
              "statement_id": 30,
              "state": "finished",
              "livy_statement_state": "available",
              "queued_time": "2023-09-29T15:14:24.4422576Z",
              "session_start_time": null,
              "execution_start_time": "2023-09-29T15:14:24.6268167Z",
              "execution_finish_time": "2023-09-29T15:14:24.804907Z",
              "spark_jobs": null,
              "parent_msg_id": "f0062450-1846-4cf7-acf6-9564e1922741"
            },
            "text/plain": "StatementMeta(InspirePool01, 82, 30, Finished, Available)"
          },
          "metadata": {}
        },
        {
          "output_type": "execute_result",
          "execution_count": 59,
          "data": {
            "text/plain": "'/mnt/var/hadoop/tmp/nm-local-dir/usercache/trusted-service-user/appcache/application_1695996645699_0001/container_1695996645699_0001_01_000001'"
          },
          "metadata": {}
        }
      ],
      "execution_count": 29,
      "metadata": {
        "jupyter": {
          "source_hidden": false,
          "outputs_hidden": false
        },
        "nteract": {
          "transient": {
            "deleting": false
          }
        }
      }
    },
    {
      "cell_type": "markdown",
      "source": [
        "con"
      ],
      "metadata": {
        "nteract": {
          "transient": {
            "deleting": false
          }
        }
      }
    },
    {
      "cell_type": "code",
      "source": [
        "\r\n",
        "%%pyspark\r\n",
        "sql_query1 = \"\"\"\r\n",
        "SELECT * FROM combined_gold.forecastmodel1;\r\n",
        "\"\"\"\r\n",
        "sql_query2 = \"\"\"\r\n",
        "SELECT * FROM combined_gold.forecastmodel2;\r\n",
        "\"\"\"\r\n",
        "sql_query3 = \"\"\"\r\n",
        "SELECT * FROM combined_gold.forecastmodel3;\r\n",
        "\"\"\"\r\n",
        "sql_query4 = \"\"\"\r\n",
        "SELECT * FROM combined_gold.forecastmodel4;\r\n",
        "\"\"\"\r\n",
        "\r\n",
        "df1 = spark.sql(sql_query1)\r\n",
        "df2 = spark.sql(sql_query2)\r\n",
        "df3 = spark.sql(sql_query3)\r\n",
        "df4 = spark.sql(sql_query4)\r\n",
        "\r\n",
        "df1 = df1.toPandas()\r\n",
        "df2 = df2.toPandas()\r\n",
        "df3 = df3.toPandas()\r\n",
        "df4 = df4.toPandas()\r\n"
      ],
      "outputs": [
        {
          "output_type": "display_data",
          "data": {
            "application/vnd.livy.statement-meta+json": {
              "spark_pool": "InspirePool01",
              "session_id": "82",
              "statement_id": 18,
              "state": "finished",
              "livy_statement_state": "available",
              "queued_time": "2023-09-29T15:10:03.2987103Z",
              "session_start_time": null,
              "execution_start_time": "2023-09-29T15:10:03.4386976Z",
              "execution_finish_time": "2023-09-29T15:10:18.392998Z",
              "spark_jobs": null,
              "parent_msg_id": "cf905cdb-1014-436f-9d99-24b4609b7c79"
            },
            "text/plain": "StatementMeta(InspirePool01, 82, 18, Finished, Available)"
          },
          "metadata": {}
        }
      ],
      "execution_count": 17,
      "metadata": {
        "jupyter": {
          "source_hidden": false,
          "outputs_hidden": false
        },
        "nteract": {
          "transient": {
            "deleting": false
          }
        },
        "microsoft": {
          "language": "python"
        },
        "collapsed": false
      }
    },
    {
      "cell_type": "code",
      "source": [
        "df1.to_csv('forecastmodel1.txt',sep='\\t',index=False)\r\n",
        "df2.to_csv('forecastmodel2.txt',sep='\\t',index=False)\r\n",
        "df3.to_csv('forecastmodel3.txt',sep='\\t',index=False)\r\n",
        "df4.to_csv('forecastmodel4.txt',sep='\\t',index=False)"
      ],
      "outputs": [
        {
          "output_type": "display_data",
          "data": {
            "application/vnd.livy.statement-meta+json": {
              "spark_pool": "InspirePool01",
              "session_id": "82",
              "statement_id": 19,
              "state": "finished",
              "livy_statement_state": "available",
              "queued_time": "2023-09-29T15:10:29.4223467Z",
              "session_start_time": null,
              "execution_start_time": "2023-09-29T15:10:29.5531654Z",
              "execution_finish_time": "2023-09-29T15:10:29.7685516Z",
              "spark_jobs": null,
              "parent_msg_id": "ea32dc0e-eae1-4e3b-8aa6-984f2764c484"
            },
            "text/plain": "StatementMeta(InspirePool01, 82, 19, Finished, Available)"
          },
          "metadata": {}
        }
      ],
      "execution_count": 18,
      "metadata": {
        "jupyter": {
          "source_hidden": false,
          "outputs_hidden": false
        },
        "nteract": {
          "transient": {
            "deleting": false
          }
        }
      }
    },
    {
      "cell_type": "code",
      "source": [
        "# Create container\r\n",
        "connection_string = \"DefaultEndpointsProtocol=https;AccountName=mcadataconnect02syn;AccountKey=lyITJnTfkKVXeXfA+1GPiDWC8Sz/kda7UK2GlVTTadtFasLeW63a824CAymP9F6UHxfOISP84O3KsetJJN9bBg==;EndpointSuffix=core.windows.net\"\r\n",
        "blob_service_client = BlobServiceClient.from_connection_string(connection_string)\r\n",
        "container_name = 'mlcontainer'\r\n",
        "container_client = blob_service_client.get_container_client(container_name)\r\n",
        "container_client.create_container()"
      ],
      "outputs": [
        {
          "output_type": "display_data",
          "data": {
            "application/vnd.livy.statement-meta+json": {
              "spark_pool": "InspirePool01",
              "session_id": "82",
              "statement_id": 20,
              "state": "finished",
              "livy_statement_state": "available",
              "queued_time": "2023-09-29T15:10:38.466926Z",
              "session_start_time": null,
              "execution_start_time": "2023-09-29T15:10:38.605945Z",
              "execution_finish_time": "2023-09-29T15:10:38.7840014Z",
              "spark_jobs": null,
              "parent_msg_id": "b9acfa29-1c36-4fed-9d89-45fc4f2564c1"
            },
            "text/plain": "StatementMeta(InspirePool01, 82, 20, Finished, Available)"
          },
          "metadata": {}
        },
        {
          "output_type": "execute_result",
          "execution_count": 39,
          "data": {
            "text/plain": "{'etag': '\"0x8DBC0FE3D55D995\"',\n 'last_modified': datetime.datetime(2023, 9, 29, 15, 10, 38, tzinfo=datetime.timezone.utc),\n 'client_request_id': '591b306e-5eda-11ee-9116-000d3aa721b0',\n 'request_id': '1127a2e8-501e-0028-1fe7-f24770000000',\n 'version': '2021-08-06',\n 'date': datetime.datetime(2023, 9, 29, 15, 10, 37, tzinfo=datetime.timezone.utc)}"
          },
          "metadata": {}
        }
      ],
      "execution_count": 19,
      "metadata": {
        "jupyter": {
          "source_hidden": false,
          "outputs_hidden": false
        },
        "nteract": {
          "transient": {
            "deleting": false
          }
        }
      }
    },
    {
      "cell_type": "code",
      "source": [
        "# Check that your container was created\r\n",
        "containers = blob_service_client.list_containers()\r\n",
        "for container in containers:\r\n",
        "    print(container.name)"
      ],
      "outputs": [
        {
          "output_type": "display_data",
          "data": {
            "application/vnd.livy.statement-meta+json": {
              "spark_pool": "InspirePool01",
              "session_id": "82",
              "statement_id": 21,
              "state": "finished",
              "livy_statement_state": "available",
              "queued_time": "2023-09-29T15:10:46.5869306Z",
              "session_start_time": null,
              "execution_start_time": "2023-09-29T15:10:46.720319Z",
              "execution_finish_time": "2023-09-29T15:10:46.8988937Z",
              "spark_jobs": null,
              "parent_msg_id": "b8d314de-8688-4571-85df-8cb069df832f"
            },
            "text/plain": "StatementMeta(InspirePool01, 82, 21, Finished, Available)"
          },
          "metadata": {}
        },
        {
          "output_type": "stream",
          "name": "stdout",
          "text": [
            "data\nmlcontainer\nsynapse\n"
          ]
        }
      ],
      "execution_count": 20,
      "metadata": {
        "jupyter": {
          "source_hidden": false,
          "outputs_hidden": false
        },
        "nteract": {
          "transient": {
            "deleting": false
          }
        }
      }
    },
    {
      "cell_type": "code",
      "source": [
        "# Delete your container\r\n",
        "# container_client.delete_container()"
      ],
      "outputs": [],
      "execution_count": null,
      "metadata": {
        "jupyter": {
          "source_hidden": false,
          "outputs_hidden": false
        },
        "nteract": {
          "transient": {
            "deleting": false
          }
        }
      }
    },
    {
      "cell_type": "code",
      "source": [
        "# Upload file to container\r\n",
        "blob_name1 = 'forecastmodel1.txt'\r\n",
        "with open(\"forecastmodel1.txt\",\"rb\") as data_file1:\r\n",
        "    container_client.upload_blob(name=blob_name1,data=data_file1)\r\n",
        "\r\n",
        "blob_name2 = 'forecastmodel2.txt'\r\n",
        "with open(\"forecastmodel2.txt\",\"rb\") as data_file2:\r\n",
        "    container_client.upload_blob(name=blob_name2,data=data_file2)\r\n",
        "\r\n",
        "blob_name3 = 'forecastmodel3.txt'\r\n",
        "with open(\"forecastmodel3.txt\",\"rb\") as data_file3:\r\n",
        "    container_client.upload_blob(name=blob_name3,data=data_file3)\r\n",
        "\r\n",
        "blob_name4 = 'forecastmodel4.txt'\r\n",
        "with open(\"forecastmodel4.txt\",\"rb\") as data_file4:\r\n",
        "    container_client.upload_blob(name=blob_name4,data=data_file4)"
      ],
      "outputs": [
        {
          "output_type": "display_data",
          "data": {
            "application/vnd.livy.statement-meta+json": {
              "spark_pool": "InspirePool01",
              "session_id": "82",
              "statement_id": 22,
              "state": "finished",
              "livy_statement_state": "available",
              "queued_time": "2023-09-29T15:10:54.4687364Z",
              "session_start_time": null,
              "execution_start_time": "2023-09-29T15:10:54.6042938Z",
              "execution_finish_time": "2023-09-29T15:10:55.2049955Z",
              "spark_jobs": null,
              "parent_msg_id": "469f7a54-23b7-4408-a32d-1117f372dfdd"
            },
            "text/plain": "StatementMeta(InspirePool01, 82, 22, Finished, Available)"
          },
          "metadata": {}
        }
      ],
      "execution_count": 21,
      "metadata": {
        "jupyter": {
          "source_hidden": false,
          "outputs_hidden": false
        },
        "nteract": {
          "transient": {
            "deleting": false
          }
        }
      }
    },
    {
      "cell_type": "code",
      "source": [
        "# Look inside container\r\n",
        "blob_list = container_client.list_blobs()\r\n",
        "for blob in blob_list:\r\n",
        "    print(f\"Blob Name: {blob.name}\")"
      ],
      "outputs": [
        {
          "output_type": "display_data",
          "data": {
            "application/vnd.livy.statement-meta+json": {
              "spark_pool": "InspirePool01",
              "session_id": "82",
              "statement_id": 24,
              "state": "finished",
              "livy_statement_state": "available",
              "queued_time": "2023-09-29T15:11:35.4686777Z",
              "session_start_time": null,
              "execution_start_time": "2023-09-29T15:11:35.6300832Z",
              "execution_finish_time": "2023-09-29T15:11:35.8641867Z",
              "spark_jobs": null,
              "parent_msg_id": "26bbd87b-acd6-47af-84fd-2dd2030625cf"
            },
            "text/plain": "StatementMeta(InspirePool01, 82, 24, Finished, Available)"
          },
          "metadata": {}
        },
        {
          "output_type": "stream",
          "name": "stdout",
          "text": [
            "Blob Name: forecastmodel1.txt\nBlob Name: forecastmodel2.txt\nBlob Name: forecastmodel3.txt\nBlob Name: forecastmodel4.txt\n"
          ]
        }
      ],
      "execution_count": 23,
      "metadata": {
        "jupyter": {
          "source_hidden": false,
          "outputs_hidden": false
        },
        "nteract": {
          "transient": {
            "deleting": false
          }
        }
      }
    },
    {
      "cell_type": "code",
      "source": [
        "%ls"
      ],
      "outputs": [
        {
          "output_type": "display_data",
          "data": {
            "application/vnd.livy.statement-meta+json": {
              "spark_pool": "InspirePool01",
              "session_id": "82",
              "statement_id": 27,
              "state": "finished",
              "livy_statement_state": "available",
              "queued_time": "2023-09-29T15:13:07.2036312Z",
              "session_start_time": null,
              "execution_start_time": "2023-09-29T15:13:07.3447763Z",
              "execution_finish_time": "2023-09-29T15:13:07.931292Z",
              "spark_jobs": null,
              "parent_msg_id": "a7e8a395-0191-4be5-aa10-217b670a3936"
            },
            "text/plain": "StatementMeta(InspirePool01, 82, 27, Finished, Available)"
          },
          "metadata": {}
        },
        {
          "output_type": "stream",
          "name": "stdout",
          "text": [
            "\u001b[0m\u001b[01;36m__spark_conf__\u001b[0m@                         forecastmodel3.txt\r\ncontainer_tokens                        forecastmodel4.txt\r\n\u001b[01;32mdefault_container_executor.sh\u001b[0m*          \u001b[01;32mlaunch_container.sh\u001b[0m*\r\n\u001b[01;32mdefault_container_executor_session.sh\u001b[0m*  \u001b[01;36msparkr\u001b[0m@\r\nforecastmodel1.txt                      \u001b[01;34mtmp\u001b[0m/\r\nforecastmodel2.txt\r\n"
          ]
        }
      ],
      "execution_count": 26,
      "metadata": {
        "jupyter": {
          "source_hidden": false,
          "outputs_hidden": false
        },
        "nteract": {
          "transient": {
            "deleting": false
          }
        }
      }
    },
    {
      "cell_type": "code",
      "source": [
        "# Check out a file in the container\r\n",
        "target_blob = next(blob for blob in blob_list if blob.name == blob_name1)\r\n",
        "print(f\"Blob Name: {target_blob.name}\")\r\n",
        "print(f\")Blob Size: {target_blob.size} bytes\")"
      ],
      "outputs": [
        {
          "output_type": "display_data",
          "data": {
            "application/vnd.livy.statement-meta+json": {
              "spark_pool": "InspirePool01",
              "session_id": "82",
              "statement_id": 25,
              "state": "finished",
              "livy_statement_state": "available",
              "queued_time": "2023-09-29T15:11:40.7948644Z",
              "session_start_time": null,
              "execution_start_time": "2023-09-29T15:11:40.9250683Z",
              "execution_finish_time": "2023-09-29T15:11:41.107682Z",
              "spark_jobs": null,
              "parent_msg_id": "91e17781-e95b-4493-9771-f44679826360"
            },
            "text/plain": "StatementMeta(InspirePool01, 82, 25, Finished, Available)"
          },
          "metadata": {}
        },
        {
          "output_type": "error",
          "ename": "StopIteration",
          "evalue": "",
          "traceback": [
            "\u001b[0;31m---------------------------------------------------------------------------\u001b[0m",
            "\u001b[0;31mStopIteration\u001b[0m                             Traceback (most recent call last)",
            "Cell \u001b[0;32mIn [49], line 2\u001b[0m\n\u001b[1;32m      1\u001b[0m \u001b[38;5;66;03m# Check out a file in the container\u001b[39;00m\n\u001b[0;32m----> 2\u001b[0m target_blob \u001b[38;5;241m=\u001b[39m \u001b[38;5;28;43mnext\u001b[39;49m\u001b[43m(\u001b[49m\u001b[43mblob\u001b[49m\u001b[43m \u001b[49m\u001b[38;5;28;43;01mfor\u001b[39;49;00m\u001b[43m \u001b[49m\u001b[43mblob\u001b[49m\u001b[43m \u001b[49m\u001b[38;5;129;43;01min\u001b[39;49;00m\u001b[43m \u001b[49m\u001b[43mblob_list\u001b[49m\u001b[43m \u001b[49m\u001b[38;5;28;43;01mif\u001b[39;49;00m\u001b[43m \u001b[49m\u001b[43mblob\u001b[49m\u001b[38;5;241;43m.\u001b[39;49m\u001b[43mname\u001b[49m\u001b[43m \u001b[49m\u001b[38;5;241;43m==\u001b[39;49m\u001b[43m \u001b[49m\u001b[43mblob_name1\u001b[49m\u001b[43m)\u001b[49m\n\u001b[1;32m      3\u001b[0m \u001b[38;5;28mprint\u001b[39m(\u001b[38;5;124mf\u001b[39m\u001b[38;5;124m\"\u001b[39m\u001b[38;5;124mBlob Name: \u001b[39m\u001b[38;5;132;01m{\u001b[39;00mtarget_blob\u001b[38;5;241m.\u001b[39mname\u001b[38;5;132;01m}\u001b[39;00m\u001b[38;5;124m\"\u001b[39m)\n\u001b[1;32m      4\u001b[0m \u001b[38;5;28mprint\u001b[39m(\u001b[38;5;124mf\u001b[39m\u001b[38;5;124m\"\u001b[39m\u001b[38;5;124m)Blob Size: \u001b[39m\u001b[38;5;132;01m{\u001b[39;00mtarget_blob\u001b[38;5;241m.\u001b[39msize\u001b[38;5;132;01m}\u001b[39;00m\u001b[38;5;124m bytes\u001b[39m\u001b[38;5;124m\"\u001b[39m)\n",
            "\u001b[0;31mStopIteration\u001b[0m: "
          ]
        }
      ],
      "execution_count": 24,
      "metadata": {
        "jupyter": {
          "source_hidden": false,
          "outputs_hidden": true
        },
        "nteract": {
          "transient": {
            "deleting": false
          }
        }
      }
    },
    {
      "cell_type": "code",
      "source": [
        "file_path = current_directory + '/forecastmodel3.txt'\r\n",
        "with open(file_path,'r') as file:\r\n",
        "    file_contents = file.read()\r\n",
        "print(file_contents)"
      ],
      "outputs": [
        {
          "output_type": "display_data",
          "data": {
            "application/vnd.livy.statement-meta+json": {
              "spark_pool": "InspirePool01",
              "session_id": "82",
              "statement_id": 35,
              "state": "finished",
              "livy_statement_state": "available",
              "queued_time": "2023-09-29T15:17:29.7829485Z",
              "session_start_time": null,
              "execution_start_time": "2023-09-29T15:17:29.9353633Z",
              "execution_finish_time": "2023-09-29T15:17:30.1199518Z",
              "spark_jobs": null,
              "parent_msg_id": "972835e0-939c-412f-8228-3a2a7af5c833"
            },
            "text/plain": "StatementMeta(InspirePool01, 82, 35, Finished, Available)"
          },
          "metadata": {}
        },
        {
          "output_type": "stream",
          "name": "stdout",
          "text": [
            "Product\tTargetMonth\tActualSalesTotal\tForecastSalesTotal\tActualQuantity\tForecastQuantity\tActualUnitCost\tForecastUnitCost\tActualUnitPrice\tForecastUnitPrice\tActualRevenue\tForecastRevenue\tModel\nSpeaker Cable Banana Plugs 24K (4Pack)\t2023-04-30\t0.0\t125.88502372326096\t0.0\t49.87499124812599\t0.0\t15.106469024350375\t0.0\t11.812494051615444\t0.0\t-3.2821232381018035\tModel3\nSpeaker Cable Banana Plugs 24K (4Pack)\t2023-05-31\t0.0\t1.2309787150242238e-52\t0.0\t1.2547239437082635e-37\t0.0\t1.3784442671807419e-43\t0.0\t1.0052959174271207e-53\t0.0\t-1.7747834569714087e-57\tModel3\nSpeaker Cable Banana Plugs 24K (4Pack)\t2023-06-30\t0.0\t4.789794815319378e-15\t0.0\t8.211824799981738e-16\t0.0\t1.9209549853399468e-16\t0.0\t1.9205801598553233e-16\t0.0\t-8.4992187500022e-19\tModel3\nSpeaker Cable Banana Plugs 24K (4Pack)\t2023-07-31\t0.0\t0.0\t0.0\t0.0\t0.0\t0.0\t0.0\t0.0\t0.0\t0.0\tModel3\nSpeaker Cable Banana Plugs 24K (4Pack)\t2023-08-31\t0.0\t0.0\t0.0\t0.0\t0.0\t0.0\t0.0\t0.0\t0.0\t0.0\tModel3\nSpeaker Cable Banana Plugs 24K (4Pack)\t2023-09-30\t0.0\t0.0\t0.0\t0.0\t0.0\t0.0\t0.0\t0.0\t0.0\t0.0\tModel3\nSpeaker Cable Banana Plugs 24K (4Pack)\t2023-10-31\t0.0\t0.0\t0.0\t0.0\t0.0\t0.0\t0.0\t0.0\t0.0\t0.0\tModel3\nMaple Panel\t2023-09-30\t0.0\t0.0\t0.0\t0.0\t0.0\t0.0\t0.0\t0.0\t0.0\t0.0\tModel3\nMaple Panel\t2023-10-31\t0.0\t0.0\t0.0\t0.0\t0.0\t0.0\t0.0\t0.0\t0.0\t0.0\tModel3\nMip Stocked Fifo Momentum\t2023-01-31\t6400.0\t3018.5957417868103\t40.0\t11.111100431224605\t72.91675\t8.101855174396627\t160.0\t17.697709450843817\t87.08325\t9.632003017563859\tModel3\nMip Stocked Fifo Momentum\t2023-02-28\t0.0\t3048.349366039385\t0.0\t12.49778292446709\t0.0\t9.112706350754099\t0.0\t20.14791661343177\t0.0\t10.88235565047437\tModel3\nMip Stocked Fifo Momentum\t2023-03-31\t0.0\t3339.0147595129847\t0.0\t15.559082845460456\t0.0\t16.203719563573653\t0.0\t35.55355594873558\t0.0\t19.35183986798278\tModel3\nMip Stocked Fifo Momentum\t2023-04-30\t0.0\t3452.9047758262527\t0.0\t17.500004546423252\t0.0\t18.22918175577791\t0.0\t40.00006092848569\t0.0\t21.77081899543754\tModel3\nMip Stocked Fifo Momentum\t2023-05-31\t0.0\t2299.3496965457857\t0.0\t15.55598573668571\t0.0\t16.203824296744127\t0.0\t35.555552480281015\t0.0\t19.351835749854523\tModel3\nPizza Master\t2023-07-31\t0.0\t5.9565557940309154e-18\t0.0\t3.048328937944209e-20\t0.0\t3.475075576653854e-19\t0.0\t6.437173675145186e-18\t0.0\t5.606672210542975e-18\tModel3\nPizza Master\t2023-08-31\t0.0\t0.0\t0.0\t0.0\t0.0\t0.0\t0.0\t0.0\t0.0\t0.0\tModel3\nPizza Master\t2023-09-30\t0.0\t0.0\t0.0\t0.0\t0.0\t0.0\t0.0\t0.0\t0.0\t0.0\tModel3\nPizza Master\t2023-10-31\t0.0\t0.0\t0.0\t0.0\t0.0\t0.0\t0.0\t0.0\t0.0\t0.0\tModel3\nSpeaker Cable Banana Plugs 24K (4Pack)\t2023-01-31\t0.0\t151.77906675266746\t0.0\t44.40630503328125\t0.0\t13.417447707974153\t0.0\t10.500002093417548\t0.0\t-2.917261306826203\tModel3\nSpeaker Cable Banana Plugs 24K (4Pack)\t2023-02-28\t0.0\t157.88776014565443\t0.0\t49.87538345087509\t0.0\t15.094683379634947\t0.0\t11.812500474965983\t0.0\t-3.282312650613754\tModel3\nSpeaker Cable Banana Plugs 24K (4Pack)\t2023-03-31\t0.0\t166.78073143060752\t0.0\t46.20913872395138\t0.0\t13.417441933327174\t0.0\t10.499999994988125\t0.0\t-2.917442038657577\tModel3\nMaple Panel\t2023-02-28\t0.0\t427.45748838533734\t0.0\t29.374706114991138\t0.0\t3.1250000560423006\t0.0\t9.375003963149979\t0.0\t6.24999987531503\tModel3\nMaple Panel\t2023-03-31\t0.0\t426.23096913507317\t0.0\t26.114168120760475\t0.0\t2.7777777052540653\t0.0\t8.333332144381572\t0.0\t5.555555260006529\tModel3\nMaple Panel\t2023-04-30\t0.0\t313.8005870597389\t0.0\t29.371299060568862\t0.0\t3.1250001749533847\t0.0\t9.3749996375735\t0.0\t6.249999931895809\tModel3\nMaple Panel\t2023-05-31\t0.0\t9.182812500000057e-14\t0.0\t1.3866272152503112e-53\t0.0\t0.006099368282155505\t0.0\t0.01828984341197103\t0.0\t0.012193582087804624\tModel3\nMaple Panel\t2023-06-30\t0.0\t5.848337424447634e-15\t0.0\t3.8956213130801724e-16\t0.0\t6.858730600004256e-17\t0.0\t2.0577407431009614e-16\t0.0\t1.3718275138208205e-16\tModel3\nMaple Panel\t2023-07-31\t0.0\t0.0\t0.0\t0.0\t0.0\t0.0\t0.0\t0.0\t0.0\t0.0\tModel3\nMaple Panel\t2023-08-31\t0.0\t0.0\t0.0\t0.0\t0.0\t0.0\t0.0\t0.0\t0.0\t0.0\tModel3\nSpeaker Cable In-wall 50 Ft\t2023-08-31\t0.0\t0.0\t0.0\t0.0\t0.0\t0.0\t0.0\t0.0\t0.0\t0.0\tModel3\nSpeaker Cable In-wall 50 Ft\t2023-09-30\t0.0\t0.0\t0.0\t0.0\t0.0\t0.0\t0.0\t0.0\t0.0\t0.0\tModel3\nSpeaker Cable In-wall 50 Ft\t2023-10-31\t0.0\t0.0\t0.0\t0.0\t0.0\t0.0\t0.0\t0.0\t0.0\t0.0\tModel3\nStandardSpeaker\t2023-01-31\t0.0\t24.601585024822345\t0.0\t0.11110430198080089\t0.0\t18.737777858152306\t0.0\t24.601585024822345\t0.0\t5.706664398669019\tModel3\nStandardSpeaker\t2023-02-28\t0.0\t27.500027862123293\t0.0\t0.12498802754656903\t0.0\t20.845320431330183\t0.0\t27.500027862123293\t0.0\t6.419999103697167\tModel3\nStandardSpeaker\t2023-03-31\t0.0\t24.529203629518243\t0.0\t0.11110496954192069\t0.0\t18.79826160210463\t0.0\t24.529203629518243\t0.0\t5.7067100526928245\tModel3\nStandardSpeaker\t2023-04-30\t0.0\t27.62417094242992\t0.0\t0.12498916447932693\t0.0\t21.201738314189765\t0.0\t27.62417094242992\t0.0\t6.419389933032023\tModel3\nSpeaker Cable In-wall 50 Ft\t2023-01-31\t0.0\t396.8273178610139\t0.0\t22.222227296296726\t0.0\t27.54965235991341\t0.0\t27.54554579901462\t0.0\t-0.0040081144186209\tModel3\nSpeaker Cable In-wall 50 Ft\t2023-02-28\t0.0\t476.2040870355373\t0.0\t24.999991599765096\t0.0\t30.993382750295726\t0.0\t30.988744267134987\t0.0\t-0.0044295132231285785\tModel3\nSpeaker Cable In-wall 50 Ft\t2023-03-31\t0.0\t358.8562587066536\t0.0\t22.223558916128688\t0.0\t27.54949306179119\t0.0\t27.571524647732293\t0.0\t-0.0039506330717523335\tModel3\nSpeaker Cable In-wall 50 Ft\t2023-04-30\t0.0\t451.37521017382807\t0.0\t24.999463725098945\t0.0\t30.984830105053327\t0.0\t30.465041737892236\t0.0\t-0.004452618127655825\tModel3\nSpeaker Cable In-wall 50 Ft\t2023-05-31\t0.0\t1.268601953125008e-13\t0.0\t4.486237570865291e-44\t0.0\t1.2445848680559014e-53\t0.0\t3.3953207521629846e-30\t0.0\t-1.0066554687497293e-18\tModel3\nSpeaker Cable In-wall 50 Ft\t2023-06-30\t0.0\t2.2394687359209282e-14\t0.0\t3.8956213130801724e-16\t0.0\t3.5242430180502003e-16\t0.0\t3.487890874621899e-16\t0.0\t-1.0022656249997272e-18\tModel3\nSpeaker Cable In-wall 50 Ft\t2023-07-31\t0.0\t0.0\t0.0\t0.0\t0.0\t0.0\t0.0\t0.0\t0.0\t0.0\tModel3\nMip Stocked Fifo Momentum\t2023-06-30\t0.0\t2454.414432818438\t0.0\t17.499996264090214\t0.0\t18.22918107065877\t0.0\t39.99898917121914\t0.0\t21.771730040582362\tModel3\nMip Stocked Fifo Momentum\t2023-07-31\t1500.0\t2819.035048248457\t5.0\t15.555278003806622\t95.0\t16.20373430600798\t300.0\t35.55558190601906\t205.0\t19.351835438819386\tModel3\nMip Stocked Fifo Momentum\t2023-08-31\t0.0\t2016.3815939320261\t0.0\t16.122378958394766\t0.0\t26.759269604482466\t0.0\t68.8102300110649\t0.0\t42.121931510133315\tModel3\nMip Stocked Fifo Momentum\t2023-09-30\t0.0\t1492.5000000001007\t0.0\t4.999999925494194\t0.0\t94.99999858410698\t0.0\t299.9999943280861\t0.0\t47.35708676909135\tModel3\nMip Stocked Fifo Momentum\t2023-10-31\t0.0\t1492.5000000001\t0.0\t4.983333583658266\t0.0\t94.68363446914391\t0.0\t60.36980141195631\t0.0\t41.721494700998875\tModel3\nPMSERVICE\t2023-01-31\t0.0\t125.11155539999281\t0.0\t1.111039053105511\t0.0\t0.0\t0.0\t10.035642245491005\t0.0\t10.035642245491005\tModel3\nPMSERVICE\t2023-02-28\t0.0\t110.23796848553744\t0.0\t1.2498738862005339\t0.0\t0.0\t0.0\t11.272007017366395\t0.0\t11.272007017366395\tModel3\nUnknown\t2023-09-30\t0.0\t21.874989599491737\t0.0\t9.144701680750365e-17\t0.0\t0.0\t0.0\t0.0\t0.0\t0.0\tModel3\nUnknown\t2023-10-31\t0.0\t99.66699455450436\t0.0\t0.0\t0.0\t0.0\t0.0\t0.0\t0.0\t0.0\tModel3\nWomen's Mountain Shorts, L\t2023-01-31\t0.0\t2093.5668712481684\t0.0\t59.77553195384323\t0.0\t120.12948240237856\t0.0\t169.35340624266158\t0.0\t41.64679196734576\tModel3\nWomen's Mountain Shorts, L\t2023-02-28\t0.0\t2268.1271976875105\t0.0\t67.25031232445357\t0.0\t119.65936801630838\t0.0\t183.68901202676582\t0.0\t46.8529923541507\tModel3\nWomen's Mountain Shorts, L\t2023-03-31\t0.0\t2241.3320973481336\t0.0\t59.77777498460565\t0.0\t90.32270147824462\t0.0\t119.88536965409169\t0.0\t41.64687292483903\tModel3\nWomen's Mountain Shorts, L\t2023-04-30\t0.0\t2448.5708508395314\t0.0\t72.07718522910226\t0.0\t143.10513849374675\t0.0\t126.72639565982969\t0.0\t47.02566720078313\tModel3\nWomen's Mountain Shorts, L\t2023-05-31\t0.0\t6.096704687500038e-13\t0.0\t1.61429687500001e-14\t0.0\t2.407339437110413e-46\t0.0\t5.6435937500000334e-14\t0.0\t2.9042039361997734e-53\tModel3\nPMSERVICE\t2023-03-31\t0.0\t101.56818170604213\t0.0\t1.1110426089592944\t0.0\t0.0\t0.0\t10.010979427061171\t0.0\t10.010979427061171\tModel3\nPMSERVICE\t2023-04-30\t0.0\t116.61869465182046\t0.0\t1.2498782604118952\t0.0\t0.0\t0.0\t11.247796206264642\t0.0\t11.247796206264642\tModel3\nPMSERVICE\t2023-05-31\t0.0\t110.23584160025277\t0.0\t1.1110492662706282\t0.0\t0.0\t0.0\t9.999989637092932\t0.0\t9.999989637092932\tModel3\nPMSERVICE\t2023-06-30\t0.0\t140.38213560879717\t0.0\t1.2498898922622534\t0.0\t0.0\t0.0\t11.249997680411678\t0.0\t11.249997680411678\tModel3\nPMSERVICE\t2023-07-31\t0.0\t2.1235533833094698e-17\t0.0\t1.5241910355609943e-19\t0.0\t0.0\t0.0\t1.3894637463075926e-18\t0.0\t1.3894637463075926e-18\tModel3\nPMSERVICE\t2023-08-31\t0.0\t0.0\t0.0\t0.0\t0.0\t0.0\t0.0\t0.0\t0.0\t0.0\tModel3\nPMSERVICE\t2023-09-30\t0.0\t0.0\t0.0\t0.0\t0.0\t0.0\t0.0\t0.0\t0.0\t0.0\tModel3\nWomen's Mountain Shorts, L\t2023-06-30\t0.0\t5.0482821384870557e-14\t0.0\t9.35199295738431e-16\t0.0\t67.99660379992851\t0.0\t4.800944412647142e-15\t0.0\t8.41877449060595e-16\tModel3\nWomen's Mountain Shorts, L\t2023-07-31\t0.0\t0.0\t0.0\t0.0\t0.0\t0.0\t0.0\t0.0\t0.0\t0.0\tModel3\nWomen's Mountain Shorts, L\t2023-08-31\t0.0\t0.0\t0.0\t0.0\t0.0\t0.0\t0.0\t0.0\t0.0\t0.0\tModel3\nWomen's Mountain Shorts, L\t2023-09-30\t0.0\t0.0\t0.0\t0.0\t0.0\t0.0\t0.0\t0.0\t0.0\t0.0\tModel3\nWomen's Mountain Shorts, L\t2023-10-31\t0.0\t0.0\t0.0\t0.0\t0.0\t0.0\t0.0\t0.0\t0.0\t0.0\tModel3\nFG Pizza FIFO PHYS\t2023-01-31\t0.0\t97.29416202237356\t0.0\t2.22222198315458\t0.0\t3.1111108387294077\t0.0\t3.888639477197008\t0.0\t0.7777282621801873\tModel3\nFG Pizza FIFO PHYS\t2023-02-28\t0.0\t88.35541859318747\t0.0\t2.5000002154026797\t0.0\t3.500000263985287\t0.0\t4.374565952815724\t0.0\t0.8749126383158743\tModel3\nFG Pizza FIFO PHYS\t2023-03-31\t0.0\t88.9268719942613\t0.0\t2.222090799509036\t0.0\t3.11092688942276\t0.0\t3.888888218386225\t0.0\t0.7777318365782756\tModel3\nFG Pizza FIFO PHYS\t2023-04-30\t0.0\t86.2994799331766\t0.0\t2.5001409791288975\t0.0\t3.4999997850044773\t0.0\t4.377340125532848\t0.0\t0.8749182876843897\tModel3\nFG Pizza FIFO PHYS\t2023-05-31\t0.0\t52.001048357669525\t0.0\t2.2221072305624103\t0.0\t3.1111107117752246\t0.0\t3.8886853973456987\t0.0\t0.7777375422763309\tModel3\nFG Pizza FIFO PHYS\t2023-06-30\t0.0\t3.1953434464945397e-15\t0.0\t9.144701680750365e-17\t0.0\t1.280241694085931e-16\t0.0\t1.600356745841353e-16\t0.0\t3.200773811650259e-17\tModel3\nFG Pizza FIFO PHYS\t2023-07-31\t0.0\t0.0\t0.0\t0.0\t0.0\t0.0\t0.0\t0.0\t0.0\t0.0\tModel3\nUnknown\t2023-02-28\t0.0\t323862.98864067654\t0.0\t23765.888900125\t0.0\t0.0\t0.0\t2915.0677906375\t0.0\t2915.0677906375\tModel3\nUnknown\t2023-03-31\t0.0\t320696.00243073574\t0.0\t23528.82415834625\t0.0\t0.0\t0.0\t109974.0328356573\t0.0\t109974.0328356573\tModel3\nUnknown\t2023-04-30\t0.0\t320667.1816394285\t0.0\t23528.82415834625\t0.0\t0.0\t0.0\t111249.56349832294\t0.0\t111249.56349832294\tModel3\nUnknown\t2023-05-31\t0.0\t317433.158588176\t0.0\t23294.124137366747\t0.0\t0.0\t0.0\t2857.202239281368\t0.0\t2857.202239281368\tModel3\nUnknown\t2023-06-30\t0.0\t317490.23336189473\t0.0\t23294.124137366747\t0.0\t0.0\t0.0\t2857.202239281368\t0.0\t2857.202239281368\tModel3\nUnknown\t2023-07-31\t100.0\t314292.28790287534\t0.0\t23062.72113867487\t0.0\t0.0\t0.0\t2840.1723218848274\t0.0\t2840.1723218848274\tModel3\nUnknown\t2023-08-31\t0.0\t99.50000000002389\t0.0\t1.8675867187500134e-12\t0.0\t0.0\t0.0\t2.2887942753906416e-13\t0.0\t2.2887942753906416e-13\tModel3\nStandardSpeaker\t2023-05-31\t0.0\t3.490465668446975e-18\t0.0\t1.5241685064634167e-20\t0.0\t2.6441575002733647e-18\t0.0\t3.490465668446975e-18\t0.0\t7.828090044277938e-19\tModel3\nStandardSpeaker\t2023-06-30\t0.0\t0.0\t0.0\t0.0\t0.0\t0.0\t0.0\t0.0\t0.0\t0.0\tModel3\nStandardSpeaker\t2023-07-31\t0.0\t0.0\t0.0\t0.0\t0.0\t0.0\t0.0\t0.0\t0.0\t0.0\tModel3\nStandardSpeaker\t2023-08-31\t0.0\t0.0\t0.0\t0.0\t0.0\t0.0\t0.0\t0.0\t0.0\t0.0\tModel3\nStandardSpeaker\t2023-09-30\t0.0\t0.0\t0.0\t0.0\t0.0\t0.0\t0.0\t0.0\t0.0\t0.0\tModel3\nStandardSpeaker\t2023-10-31\t0.0\t0.0\t0.0\t0.0\t0.0\t0.0\t0.0\t0.0\t0.0\t0.0\tModel3\nUnknown\t2023-01-31\t-100.0\t323862.98864067654\t0.0\t23765.888900125\t0.0\t0.0\t0.0\t2915.0677906375\t0.0\t2915.0677906375\tModel3\nFGFifoInspirePizza\t2023-05-31\t0.0\t0.0\t0.0\t0.0\t0.0\t0.0\t0.0\t0.0\t0.0\t0.0\tModel3\nFGFifoInspirePizza\t2023-06-30\t0.0\t0.0\t0.0\t0.0\t0.0\t0.0\t0.0\t0.0\t0.0\t0.0\tModel3\nFGFifoInspirePizza\t2023-07-31\t0.0\t0.0\t0.0\t0.0\t0.0\t0.0\t0.0\t0.0\t0.0\t0.0\tModel3\nFGFifoInspirePizza\t2023-08-31\t0.0\t0.0\t0.0\t0.0\t0.0\t0.0\t0.0\t0.0\t0.0\t0.0\tModel3\nFGFifoInspirePizza\t2023-09-30\t0.0\t0.0\t0.0\t0.0\t0.0\t0.0\t0.0\t0.0\t0.0\t0.0\tModel3\nFGFifoInspirePizza\t2023-10-31\t0.0\t0.0\t0.0\t0.0\t0.0\t0.0\t0.0\t0.0\t0.0\t0.0\tModel3\nMaple Panel\t2023-01-31\t0.0\t371.4240678737579\t0.0\t26.11128342927604\t0.0\t2.7777776724347456\t0.0\t8.333334950860452\t0.0\t5.555555353720218\tModel3\nPMSERVICE\t2023-10-31\t0.0\t0.0\t0.0\t0.0\t0.0\t0.0\t0.0\t0.0\t0.0\t0.0\tModel3\nPizza Master\t2023-01-31\t0.0\t92.63122070567267\t0.0\t5.222222296929374\t0.0\t4.887962693579135\t0.0\t50.272365464936065\t0.0\t41.545028513001284\tModel3\nPizza Master\t2023-02-28\t0.0\t100.1756365706478\t0.0\t5.875000148655337\t0.0\t5.498958426407266\t0.0\t52.322630999931604\t0.0\t46.070675038511474\tModel3\nPizza Master\t2023-03-31\t0.0\t104.5077770135785\t0.0\t1.1062849327446362e-31\t0.0\t4.887963057725103\t0.0\t48.39212457253761\t0.0\t41.281734970629586\tModel3\nPizza Master\t2023-04-30\t0.0\t60.83359190904563\t0.0\t2.124999887273916\t0.0\t4.169416633537975\t0.0\t59.96370302384061\t0.0\t54.82902632122812\tModel3\nPizza Master\t2023-05-31\t0.0\t43.81058543332021\t0.0\t0.22220987341199996\t0.0\t2.533192335751795\t0.0\t43.69191707147905\t0.0\t40.88226730833174\tModel3\nPizza Master\t2023-06-30\t0.0\t60.10090421755297\t0.0\t0.24997804438049118\t0.0\t2.8500002871649697\t0.0\t49.23621946583663\t0.0\t50.39844910013111\tModel3\nFG Pizza FIFO PHYS\t2023-08-31\t0.0\t0.0\t0.0\t0.0\t0.0\t0.0\t0.0\t0.0\t0.0\t0.0\tModel3\nFG Pizza FIFO PHYS\t2023-09-30\t0.0\t0.0\t0.0\t0.0\t0.0\t0.0\t0.0\t0.0\t0.0\t0.0\tModel3\nFG Pizza FIFO PHYS\t2023-10-31\t0.0\t0.0\t0.0\t0.0\t0.0\t0.0\t0.0\t0.0\t0.0\t0.0\tModel3\nFGFifoInspirePizza\t2023-01-31\t0.0\t0.0\t0.0\t0.0\t0.0\t0.0\t0.0\t0.0\t0.0\t0.0\tModel3\nFGFifoInspirePizza\t2023-02-28\t0.0\t0.0\t0.0\t0.0\t0.0\t0.0\t0.0\t0.0\t0.0\t0.0\tModel3\nFGFifoInspirePizza\t2023-03-31\t0.0\t0.0\t0.0\t0.0\t0.0\t0.0\t0.0\t0.0\t0.0\t0.0\tModel3\nFGFifoInspirePizza\t2023-04-30\t0.0\t0.0\t0.0\t0.0\t0.0\t0.0\t0.0\t0.0\t0.0\t0.0\tModel3\n\n"
          ]
        }
      ],
      "execution_count": 34,
      "metadata": {
        "jupyter": {
          "source_hidden": false,
          "outputs_hidden": false
        },
        "nteract": {
          "transient": {
            "deleting": false
          }
        }
      }
    },
    {
      "cell_type": "code",
      "source": [
        "# View the file\r\n",
        "blob_client = container_client.get_blob_client(blob_name1)\r\n",
        "blob_data = blob_client.download_blob()\r\n",
        "content = blob_data.readall()\r\n",
        "text_content = content.decode(\"utf-8\")\r\n",
        "print(text_content)"
      ],
      "outputs": [
        {
          "output_type": "display_data",
          "data": {
            "application/vnd.livy.statement-meta+json": {
              "spark_pool": "InspirePool01",
              "session_id": "82",
              "statement_id": 38,
              "state": "finished",
              "livy_statement_state": "available",
              "queued_time": "2023-09-29T15:22:44.0175322Z",
              "session_start_time": null,
              "execution_start_time": "2023-09-29T15:22:44.1616314Z",
              "execution_finish_time": "2023-09-29T15:22:44.3436895Z",
              "spark_jobs": null,
              "parent_msg_id": "97a7f819-8632-4151-b93b-a9feb2630395"
            },
            "text/plain": "StatementMeta(InspirePool01, 82, 38, Finished, Available)"
          },
          "metadata": {}
        },
        {
          "output_type": "stream",
          "name": "stdout",
          "text": [
            "Product\tTargetMonth\tActualSalesTotal\tForecastSalesTotal\tActualQuantity\tForecastQuantity\tActualUnitCost\tForecastUnitCost\tActualUnitPrice\tForecastUnitPrice\tActualRevenue\tForecastRevenue\tModel\nMaple Panel\t2023-09-30\t0.0\t0.0\t0.0\t0.0\t0.0\t0.0\t0.0\t0.0\t0.0\t0.0\tModel1\nMaple Panel\t2023-10-31\t0.0\t0.0\t0.0\t0.0\t0.0\t0.0\t0.0\t0.0\t0.0\t0.0\tModel1\nMip Stocked Fifo Momentum\t2023-01-31\t6400.0\t16000.0\t40.0\t100.0\t72.91675\t72.91670000000002\t160.0\t160.0\t87.08325\t87.08330000000001\tModel1\nMip Stocked Fifo Momentum\t2023-02-28\t0.0\t15999.999999999998\t0.0\t99.99999999999999\t0.0\t72.9167\t0.0\t159.99999999999997\t0.0\t87.0833\tModel1\nMip Stocked Fifo Momentum\t2023-03-31\t0.0\t9.184059762690211e-14\t0.0\t1.995094627699201e-15\t0.0\t5.444863310222203e-16\t0.0\t7.980378510796804e-15\t0.0\t-6.77496253542742e-15\tModel1\nMip Stocked Fifo Momentum\t2023-04-30\t0.0\t1.0013370341233063e-12\t0.0\t9.100521985300203e-15\t0.0\t1.4755341046224224e-14\t0.0\t3.640208794120081e-14\t0.0\t7.435892179774584e-15\tModel1\nMip Stocked Fifo Momentum\t2023-05-31\t0.0\t5.209218419969689e-47\t0.0\t-1.4897698160413732e-47\t0.0\t-3.117640392806931e-49\t0.0\t-5.959079264165493e-47\t0.0\t5.11769293342847e-47\tModel1\nMip Stocked Fifo Momentum\t2023-06-30\t0.0\t-2.5577877177934496e-45\t0.0\t-4.48415582084971e-47\t0.0\t-1.3474442599899919e-46\t0.0\t-1.793662328339884e-46\t0.0\t-1.0518064144508065e-46\tModel1\nMip Stocked Fifo Momentum\t2023-07-31\t1500.0\t-2.170409747576313e-80\t5.0\t2.6701153350209086e-79\t95.0\t-5.408454307137356e-84\t300.0\t1.0680461340083634e-78\t205.0\t-4.739407748199109e-80\tModel1\nMip Stocked Fifo Momentum\t2023-08-31\t0.0\t1500.0000000000002\t0.0\t5.0\t0.0\t95.00000000000001\t0.0\t300.00000000000006\t0.0\t205.0\tModel1\nMip Stocked Fifo Momentum\t2023-09-30\t0.0\t1500.0\t0.0\t4.999999999999999\t0.0\t95.0\t0.0\t300.0\t0.0\t204.99999999999997\tModel1\nMip Stocked Fifo Momentum\t2023-10-31\t0.0\t1500.0000000000002\t0.0\t5.0\t0.0\t95.00000000000001\t0.0\t300.00000000000006\t0.0\t205.0\tModel1\nPMSERVICE\t2023-01-31\t0.0\t3.804409789769631e-30\t0.0\t-1.5488877803722855e-31\t0.0\t0.0\t0.0\t-7.8233982679993815e-31\t0.0\t-7.8233982679993815e-31\tModel1\nPMSERVICE\t2023-02-28\t0.0\t-7.242892890105688e-30\t0.0\t6.69275702002255e-32\t0.0\t0.0\t0.0\t2.0333155851145148e-31\t0.0\t2.0333155851145148e-31\tModel1\nSpeaker Cable In-wall 50 Ft\t2023-01-31\t0.0\t4.171330427746688e-46\t0.0\t9.124902244151946e-47\t0.0\t1.0460699931917711e-46\t0.0\t7.294467684835025e-47\t0.0\t-4.02391056649714e-51\tModel1\nSpeaker Cable In-wall 50 Ft\t2023-02-28\t0.0\t-7.869822050630965e-46\t0.0\t-3.548345724338961e-47\t0.0\t-4.0966049378863415e-47\t0.0\t-2.5226054477233285e-47\t0.0\t6.4233465856860476e-52\tModel1\nSpeaker Cable In-wall 50 Ft\t2023-03-31\t0.0\t-2.36742350608742e-78\t0.0\t4.967240255720711e-81\t0.0\t-5.065948211444603e-79\t0.0\t-1.4832018011565494e-79\t0.0\t5.3292301786119494e-83\tModel1\nSpeaker Cable In-wall 50 Ft\t2023-04-30\t0.0\t9.351423741174063e-79\t0.0\t1.3734970538098068e-79\t0.0\t1.532952945258758e-79\t0.0\t-1.0346530431890237e-81\t0.0\t-5.187988883248221e-85\tModel1\nSpeaker Cable In-wall 50 Ft\t2023-05-31\t0.0\t8.730469161529087e-111\t0.0\t2.1786136871339063e-111\t0.0\t-5.055826003048263e-112\t0.0\t1.2861426331291023e-110\t0.0\t-1.8666770413679422e-117\tModel1\nSpeaker Cable In-wall 50 Ft\t2023-06-30\t0.0\t4.6535803046693237e-110\t0.0\t-4.449497818744132e-113\t0.0\t-9.299313828524774e-114\t0.0\t9.241201404443192e-113\t0.0\t5.142729451821491e-117\tModel1\nSpeaker Cable In-wall 50 Ft\t2023-07-31\t0.0\t0.0\t0.0\t0.0\t0.0\t0.0\t0.0\t0.0\t0.0\t0.0\tModel1\nSpeaker Cable In-wall 50 Ft\t2023-08-31\t0.0\t0.0\t0.0\t0.0\t0.0\t0.0\t0.0\t0.0\t0.0\t0.0\tModel1\nSpeaker Cable In-wall 50 Ft\t2023-09-30\t0.0\t0.0\t0.0\t0.0\t0.0\t0.0\t0.0\t0.0\t0.0\t0.0\tModel1\nSpeaker Cable In-wall 50 Ft\t2023-10-31\t0.0\t0.0\t0.0\t0.0\t0.0\t0.0\t0.0\t0.0\t0.0\t0.0\tModel1\nStandardSpeaker\t2023-01-31\t0.0\t5.427273347624328e-63\t0.0\t-9.44539022798402e-67\t0.0\t2.526169685750271e-62\t0.0\t5.427273347624328e-63\t0.0\t1.0515413976891305e-62\tModel1\nStandardSpeaker\t2023-02-28\t0.0\t9.111529979545376e-67\t0.0\t9.933152647935232e-65\t0.0\t5.46532238431808e-62\t0.0\t9.111529979545376e-67\t0.0\t-2.2084335230731605e-63\tModel1\nStandardSpeaker\t2023-03-31\t0.0\t-1.2344320975218134e-95\t0.0\t9.499408392097462e-99\t0.0\t-8.770828045743665e-95\t0.0\t-1.2344320975218134e-95\t0.0\t-2.0507982688838742e-94\tModel1\nStandardSpeaker\t2023-04-30\t0.0\t3.477181954416546e-99\t0.0\t1.88394459446175e-97\t0.0\t-1.3263454285917775e-94\t0.0\t3.477181954416546e-99\t0.0\t1.771058962791885e-97\tModel1\nPMSERVICE\t2023-03-31\t0.0\t-2.891277974780886e-62\t0.0\t1.6030818062655966e-63\t0.0\t0.0\t0.0\t-2.223112706414506e-63\t0.0\t-2.223112706414506e-63\tModel1\nPMSERVICE\t2023-04-30\t0.0\t1.0049530265952664e-61\t0.0\t3.1272809685387538e-65\t0.0\t0.0\t0.0\t-2.539582175191157e-63\t0.0\t-2.539582175191157e-63\tModel1\nPMSERVICE\t2023-05-31\t0.0\t1.5739667889887347e-94\t0.0\t-3.326593365615106e-95\t0.0\t0.0\t0.0\t3.337597476724676e-95\t0.0\t3.337597476724676e-95\tModel1\nPMSERVICE\t2023-06-30\t0.0\t-6.497609002465826e-94\t0.0\t-2.4841259341857234e-96\t0.0\t0.0\t0.0\t-1.736244995587666e-95\t0.0\t-1.736244995587666e-95\tModel1\nPMSERVICE\t2023-07-31\t0.0\t2.726512561532184e-126\t0.0\t6.585383854772871e-129\t0.0\t0.0\t0.0\t3.0857171956179934e-131\t0.0\t3.0857171956179934e-131\tModel1\nPMSERVICE\t2023-08-31\t0.0\t0.0\t0.0\t0.0\t0.0\t0.0\t0.0\t0.0\t0.0\t0.0\tModel1\nPMSERVICE\t2023-09-30\t0.0\t0.0\t0.0\t0.0\t0.0\t0.0\t0.0\t0.0\t0.0\t0.0\tModel1\nPMSERVICE\t2023-10-31\t0.0\t0.0\t0.0\t0.0\t0.0\t0.0\t0.0\t0.0\t0.0\t0.0\tModel1\nPizza Master\t2023-01-31\t0.0\t-1.030941271433873e-30\t0.0\t8.522898280749979e-33\t0.0\t-1.4378834978354352e-31\t0.0\t-7.934807296751107e-30\t0.0\t-1.3002321689586647e-31\tModel1\nPizza Master\t2023-02-28\t0.0\t-1.8214241707799235e-30\t0.0\t-1.612900500740664e-32\t0.0\t-2.918013322243943e-31\t0.0\t-6.827319337824456e-30\t0.0\t-2.4982260458929792e-30\tModel1\nPizza Master\t2023-03-31\t0.0\t1.075625273225544e-62\t0.0\t-1.889078045596804e-66\t0.0\t1.688337909639147e-63\t0.0\t4.34709316924574e-62\t0.0\t1.471362100220076e-63\tModel1\nPizza Master\t2023-04-30\t0.0\t2.249373885961373e-62\t0.0\t1.9866305295870463e-64\t0.0\t-1.0230674448479941e-63\t0.0\t3.8607156306737817e-64\t0.0\t5.2909340571435105e-62\tModel1\nPizza Master\t2023-05-31\t0.0\t5.105953274336179e-96\t0.0\t1.8998816784194924e-98\t0.0\t-4.725524208490265e-96\t0.0\t-4.459269296146928e-94\t0.0\t-3.463194646215729e-95\tModel1\nPizza Master\t2023-06-30\t0.0\t4.792180375681369e-95\t0.0\t3.7678891889235e-97\t0.0\t-1.0465692611564196e-96\t0.0\t1.6170585566274678e-95\t0.0\t-1.2992794871662133e-94\tModel1\nPizza Master\t2023-07-31\t0.0\t1.2601446364702668e-127\t0.0\t-2.334443674756551e-131\t0.0\t3.1753597089047526e-128\t0.0\t5.547379171228852e-131\t0.0\t1.390994241507711e-127\tModel1\nPizza Master\t2023-08-31\t0.0\t0.0\t0.0\t0.0\t0.0\t0.0\t0.0\t0.0\t0.0\t0.0\tModel1\nPizza Master\t2023-09-30\t0.0\t0.0\t0.0\t0.0\t0.0\t0.0\t0.0\t0.0\t0.0\t0.0\tModel1\nPizza Master\t2023-10-31\t0.0\t0.0\t0.0\t0.0\t0.0\t0.0\t0.0\t0.0\t0.0\t0.0\tModel1\nSpeaker Cable Banana Plugs 24K (4Pack)\t2023-01-31\t0.0\t2.2698600467278055e-47\t0.0\t2.229921007188795e-48\t0.0\t9.395452851931029e-47\t0.0\t-2.6259965479091566e-48\t0.0\t-2.9973387071192637e-53\tModel1\nSpeaker Cable Banana Plugs 24K (4Pack)\t2023-02-28\t0.0\t7.00518266691614e-47\t0.0\t-2.3586563899283294e-46\t0.0\t-5.090050699653313e-48\t0.0\t4.081691746042999e-47\t0.0\t1.6575986241139102e-50\tModel1\nSpeaker Cable Banana Plugs 24K (4Pack)\t2023-03-31\t0.0\t-5.633178172458443e-80\t0.0\t-2.0546604807301374e-80\t0.0\t-4.2897685927590766e-79\t0.0\t2.3421193998669927e-80\t0.0\t-3.049087042231071e-86\tModel1\nSpeaker Cable Banana Plugs 24K (4Pack)\t2023-04-30\t0.0\t-5.101981114570879e-79\t0.0\t3.07844534080546e-78\t0.0\t6.421166288254209e-80\t0.0\t-3.107554778973902e-79\t0.0\t-7.405684030748263e-83\tModel1\nSpeaker Cable Banana Plugs 24K (4Pack)\t2023-05-31\t0.0\t1.676865758323899e-113\t0.0\t9.348647551446422e-113\t0.0\t1.4709783991989637e-110\t0.0\t-5.4434173080158125e-112\t0.0\t2.524644400464596e-119\tModel1\nSpeaker Cable Banana Plugs 24K (4Pack)\t2023-06-30\t0.0\t3.3030281973791765e-112\t0.0\t1.3713261129567647e-111\t0.0\t-4.968838046574269e-112\t0.0\t-4.934908936636656e-114\t0.0\t1.9444193240585423e-118\tModel1\nSpeaker Cable Banana Plugs 24K (4Pack)\t2023-07-31\t0.0\t0.0\t0.0\t0.0\t0.0\t0.0\t0.0\t0.0\t0.0\t0.0\tModel1\nSpeaker Cable Banana Plugs 24K (4Pack)\t2023-08-31\t0.0\t0.0\t0.0\t0.0\t0.0\t0.0\t0.0\t0.0\t0.0\t0.0\tModel1\nSpeaker Cable Banana Plugs 24K (4Pack)\t2023-09-30\t0.0\t0.0\t0.0\t0.0\t0.0\t0.0\t0.0\t0.0\t0.0\t0.0\tModel1\nSpeaker Cable Banana Plugs 24K (4Pack)\t2023-10-31\t0.0\t0.0\t0.0\t0.0\t0.0\t0.0\t0.0\t0.0\t0.0\t0.0\tModel1\nStandardSpeaker\t2023-05-31\t0.0\t-7.358771376942619e-129\t0.0\t-1.1672218373782754e-131\t0.0\t5.831962247344477e-129\t0.0\t-7.358771376942619e-129\t0.0\t7.095109035360968e-129\tModel1\nStandardSpeaker\t2023-06-30\t0.0\t0.0\t0.0\t0.0\t0.0\t0.0\t0.0\t0.0\t0.0\t0.0\tModel1\nStandardSpeaker\t2023-07-31\t0.0\t0.0\t0.0\t0.0\t0.0\t0.0\t0.0\t0.0\t0.0\t0.0\tModel1\nStandardSpeaker\t2023-08-31\t0.0\t0.0\t0.0\t0.0\t0.0\t0.0\t0.0\t0.0\t0.0\t0.0\tModel1\nStandardSpeaker\t2023-09-30\t0.0\t0.0\t0.0\t0.0\t0.0\t0.0\t0.0\t0.0\t0.0\t0.0\tModel1\nStandardSpeaker\t2023-10-31\t0.0\t0.0\t0.0\t0.0\t0.0\t0.0\t0.0\t0.0\t0.0\t0.0\tModel1\nUnknown\t2023-01-31\t-100.0\t174.99999999158177\t0.0\t19.999999999734626\t0.0\t0.0\t0.0\t4.057454372485836e-11\t0.0\t4.057454372485836e-11\tModel1\nUnknown\t2023-02-28\t0.0\t175.00000000648294\t0.0\t20.00000000066595\t0.0\t0.0\t0.0\t1.569897545294907e-10\t0.0\t1.569897545294907e-10\tModel1\nUnknown\t2023-03-31\t0.0\t-1.4350364429746576e-15\t0.0\t3.112897120073549e-32\t0.0\t0.0\t0.0\t6.167019690419488e-45\t0.0\t6.167019690419488e-45\tModel1\nUnknown\t2023-04-30\t0.0\t-1.5645850500595193e-14\t0.0\t-1.0737849372162592e-31\t0.0\t0.0\t0.0\t-1.5996834627361147e-43\t0.0\t-1.5996834627361147e-43\tModel1\nUnknown\t2023-05-31\t0.0\t6.36948019730272e-48\t0.0\t-3.9041133426368245e-64\t0.0\t0.0\t0.0\t-1.2252774981499108e-76\t0.0\t-1.2252774981499108e-76\tModel1\nUnknown\t2023-06-30\t0.0\t6.508843578340244e-46\t0.0\t-1.8233675026106953e-64\t0.0\t0.0\t0.0\t1.78865255623615e-76\t0.0\t1.78865255623615e-76\tModel1\nUnknown\t2023-07-31\t100.0\t-3.9349860547989664e-81\t0.0\t5.659059160320063e-96\t0.0\t0.0\t0.0\t5.58842935312642e-108\t0.0\t5.58842935312642e-108\tModel1\nUnknown\t2023-08-31\t0.0\t100.0\t0.0\t-7.036027362874953e-113\t0.0\t0.0\t0.0\t7.448193358115937e-124\t0.0\t7.448193358115937e-124\tModel1\nFG Pizza FIFO PHYS\t2023-01-31\t0.0\t-2.9673568364385575e-46\t0.0\t6.1183342789383925e-49\t0.0\t4.337056665264155e-49\t0.0\t2.0369390427304194e-50\t0.0\t1.0842641663160388e-49\tModel1\nFG Pizza FIFO PHYS\t2023-02-28\t0.0\t-4.560845792771974e-46\t0.0\t-2.242077910424855e-47\t0.0\t-8.651342628056783e-48\t0.0\t3.026989558076602e-47\t0.0\t-2.1628356570141957e-48\tModel1\nFG Pizza FIFO PHYS\t2023-03-31\t0.0\t3.52520186399539e-79\t0.0\t-8.7591563817674e-81\t0.0\t-3.2973323584036143e-81\t0.0\t-8.764420563708504e-84\t0.0\t-8.243330896009036e-82\tModel1\nFG Pizza FIFO PHYS\t2023-04-30\t0.0\t2.8310743132859844e-78\t0.0\t4.651775727796005e-79\t0.0\t7.861349950635574e-80\t0.0\t-5.222645012025599e-79\t0.0\t1.9653374876588934e-80\tModel1\nFG Pizza FIFO PHYS\t2023-05-31\t0.0\t5.243736802896762e-112\t0.0\t1.8164208351032934e-112\t0.0\t8.903020654620881e-114\t0.0\t-5.83345931307002e-112\t0.0\t2.2257551636552203e-114\tModel1\nFG Pizza FIFO PHYS\t2023-06-30\t0.0\t-1.733363516049842e-111\t0.0\t-1.3428111467542872e-112\t0.0\t5.1545003885762715e-114\t0.0\t-3.910257747588967e-111\t0.0\t1.2886250971440679e-114\tModel1\nFG Pizza FIFO PHYS\t2023-07-31\t0.0\t0.0\t0.0\t0.0\t0.0\t0.0\t0.0\t0.0\t0.0\t0.0\tModel1\nFG Pizza FIFO PHYS\t2023-08-31\t0.0\t0.0\t0.0\t0.0\t0.0\t0.0\t0.0\t0.0\t0.0\t0.0\tModel1\nFG Pizza FIFO PHYS\t2023-09-30\t0.0\t0.0\t0.0\t0.0\t0.0\t0.0\t0.0\t0.0\t0.0\t0.0\tModel1\nFG Pizza FIFO PHYS\t2023-10-31\t0.0\t0.0\t0.0\t0.0\t0.0\t0.0\t0.0\t0.0\t0.0\t0.0\tModel1\nFGFifoInspirePizza\t2023-01-31\t0.0\t0.0\t0.0\t0.0\t0.0\t0.0\t0.0\t0.0\t0.0\t0.0\tModel1\nFGFifoInspirePizza\t2023-02-28\t0.0\t0.0\t0.0\t0.0\t0.0\t0.0\t0.0\t0.0\t0.0\t0.0\tModel1\nFGFifoInspirePizza\t2023-03-31\t0.0\t0.0\t0.0\t0.0\t0.0\t0.0\t0.0\t0.0\t0.0\t0.0\tModel1\nFGFifoInspirePizza\t2023-04-30\t0.0\t0.0\t0.0\t0.0\t0.0\t0.0\t0.0\t0.0\t0.0\t0.0\tModel1\nUnknown\t2023-09-30\t0.0\t99.99999999999999\t0.0\t-1.3428111467542872e-112\t0.0\t0.0\t0.0\t0.0\t0.0\t0.0\tModel1\nUnknown\t2023-10-31\t0.0\t100.0\t0.0\t0.0\t0.0\t0.0\t0.0\t0.0\t0.0\t0.0\tModel1\nWomen's Mountain Shorts, L\t2023-01-31\t0.0\t1.3345087469843232e-45\t0.0\t6.190540688059477e-47\t0.0\t2.4224602949920615e-47\t0.0\t6.306715747139522e-46\t0.0\t-5.558481948460987e-47\tModel1\nWomen's Mountain Shorts, L\t2023-02-28\t0.0\t-1.0941256344880513e-45\t0.0\t-3.554255875304152e-46\t0.0\t-8.76191573935227e-47\t0.0\t8.046090883261546e-47\t0.0\t1.0445957964063609e-47\tModel1\nWomen's Mountain Shorts, L\t2023-03-31\t0.0\t-1.130152445836813e-78\t0.0\t4.2094152187874806e-82\t0.0\t-1.1930185371654683e-79\t0.0\t-1.3703539551456776e-78\t0.0\t5.592996337915055e-79\tModel1\nWomen's Mountain Shorts, L\t2023-04-30\t0.0\t1.1101931001371062e-77\t0.0\t-1.266087087636449e-78\t0.0\t8.338911517463916e-78\t0.0\t-5.583977817018307e-79\t0.0\t-1.6662669654895957e-79\tModel1\nWomen's Mountain Shorts, L\t2023-05-31\t0.0\t1.9015478457250755e-108\t0.0\t4.860326122620731e-110\t0.0\t-8.853015269357521e-113\t0.0\t4.0165721311541196e-111\t0.0\t2.6508516972305258e-111\tModel1\nWomen's Mountain Shorts, L\t2023-06-30\t0.0\t-2.461813733963529e-110\t0.0\t6.90251655320249e-111\t0.0\t1.1178713789459408e-111\t0.0\t2.7807276983278575e-112\t0.0\t-5.667691104023911e-110\tModel1\nWomen's Mountain Shorts, L\t2023-07-31\t0.0\t0.0\t0.0\t0.0\t0.0\t0.0\t0.0\t0.0\t0.0\t0.0\tModel1\nWomen's Mountain Shorts, L\t2023-08-31\t0.0\t0.0\t0.0\t0.0\t0.0\t0.0\t0.0\t0.0\t0.0\t0.0\tModel1\nWomen's Mountain Shorts, L\t2023-09-30\t0.0\t0.0\t0.0\t0.0\t0.0\t0.0\t0.0\t0.0\t0.0\t0.0\tModel1\nWomen's Mountain Shorts, L\t2023-10-31\t0.0\t0.0\t0.0\t0.0\t0.0\t0.0\t0.0\t0.0\t0.0\t0.0\tModel1\nFGFifoInspirePizza\t2023-05-31\t0.0\t0.0\t0.0\t0.0\t0.0\t0.0\t0.0\t0.0\t0.0\t0.0\tModel1\nFGFifoInspirePizza\t2023-06-30\t0.0\t0.0\t0.0\t0.0\t0.0\t0.0\t0.0\t0.0\t0.0\t0.0\tModel1\nFGFifoInspirePizza\t2023-07-31\t0.0\t0.0\t0.0\t0.0\t0.0\t0.0\t0.0\t0.0\t0.0\t0.0\tModel1\nFGFifoInspirePizza\t2023-08-31\t0.0\t0.0\t0.0\t0.0\t0.0\t0.0\t0.0\t0.0\t0.0\t0.0\tModel1\nFGFifoInspirePizza\t2023-09-30\t0.0\t0.0\t0.0\t0.0\t0.0\t0.0\t0.0\t0.0\t0.0\t0.0\tModel1\nFGFifoInspirePizza\t2023-10-31\t0.0\t0.0\t0.0\t0.0\t0.0\t0.0\t0.0\t0.0\t0.0\t0.0\tModel1\nMaple Panel\t2023-01-31\t0.0\t3.764943235488945e-46\t0.0\t2.045921202634273e-46\t0.0\t-5.3004526169194575e-49\t0.0\t-1.712507168873822e-47\t0.0\t-1.0600905233838915e-48\tModel1\nMaple Panel\t2023-02-28\t0.0\t-1.528269488260102e-45\t0.0\t-3.2407585324482336e-48\t0.0\t-1.505800140009637e-47\t0.0\t-4.533343043905125e-47\t0.0\t-3.011600280019274e-47\tModel1\nMaple Panel\t2023-03-31\t0.0\t-3.3210682612044103e-78\t0.0\t1.266793332537724e-79\t0.0\t1.28304883682174e-82\t0.0\t-3.701402760282881e-80\t0.0\t2.56609767364348e-82\tModel1\nMaple Panel\t2023-04-30\t0.0\t1.1420956030535933e-77\t0.0\t4.6449178941974364e-80\t0.0\t8.91621318965731e-80\t0.0\t-1.4183811822111733e-79\t0.0\t1.783242637931462e-79\tModel1\nMaple Panel\t2023-05-31\t0.0\t-4.150067871796923e-110\t0.0\t-9.406732712480924e-113\t0.0\t3.225515884686848e-114\t0.0\t-1.1773210802714116e-111\t0.0\t6.451031769373696e-114\tModel1\nMaple Panel\t2023-06-30\t0.0\t7.976116709223757e-111\t0.0\t-4.449497818744132e-113\t0.0\t1.4615233761947267e-112\t0.0\t-1.718257414842898e-115\t0.0\t2.9230467523894534e-112\tModel1\nMaple Panel\t2023-07-31\t0.0\t0.0\t0.0\t0.0\t0.0\t0.0\t0.0\t0.0\t0.0\t0.0\tModel1\nMaple Panel\t2023-08-31\t0.0\t0.0\t0.0\t0.0\t0.0\t0.0\t0.0\t0.0\t0.0\t0.0\tModel1\n\n"
          ]
        }
      ],
      "execution_count": 37,
      "metadata": {
        "jupyter": {
          "source_hidden": false,
          "outputs_hidden": false
        },
        "nteract": {
          "transient": {
            "deleting": false
          }
        }
      }
    }
  ],
  "metadata": {
    "kernelspec": {
      "name": "synapse_pyspark",
      "language": "Python",
      "display_name": "Synapse PySpark"
    },
    "language_info": {
      "name": "python"
    },
    "kernel_info": {
      "name": "synapse_pyspark"
    },
    "save_output": true,
    "synapse_widget": {
      "version": "0.1",
      "state": {}
    }
  },
  "nbformat": 4,
  "nbformat_minor": 2
}