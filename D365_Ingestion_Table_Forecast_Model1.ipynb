{
  "nbformat": 4,
  "nbformat_minor": 2,
  "metadata": {
    "kernelspec": {
      "name": "synapse_pyspark",
      "display_name": "Synapse PySpark"
    },
    "language_info": {
      "name": "python"
    },
    "save_output": true,
    "synapse_widget": {
      "version": "0.1",
      "state": {}
    }
  },
  "cells": [
    {
      "cell_type": "markdown",
      "metadata": {
        "nteract": {
          "transient": {
            "deleting": false
          }
        }
      },
      "source": [
        "# Forecast Table Model1"
      ]
    },
    {
      "cell_type": "code",
      "execution_count": 2,
      "outputs": [],
      "metadata": {
        "jupyter": {
          "source_hidden": false,
          "outputs_hidden": false
        },
        "nteract": {
          "transient": {
            "deleting": false
          }
        },
        "microsoft": {
          "language": "python"
        }
      },
      "source": [
        "%%pyspark\r\n",
        "sql_query = \"\"\"\r\n",
        "SELECT * \r\n",
        "FROM combined_gold.baseproduct as p\r\n",
        "INNER JOIN combined_gold.basesalesinvoice as s\r\n",
        "ON p.ProductPrimaryKey = s.SalesInvoiceProductKey\r\n",
        "\"\"\"\r\n",
        "\r\n",
        "df = spark.sql(sql_query)"
      ]
    },
    {
      "cell_type": "code",
      "execution_count": 3,
      "outputs": [],
      "metadata": {
        "jupyter": {
          "source_hidden": false,
          "outputs_hidden": false
        },
        "nteract": {
          "transient": {
            "deleting": false
          }
        }
      },
      "source": [
        "# Convert to pandas\r\n",
        "df = df.toPandas()"
      ]
    },
    {
      "cell_type": "code",
      "execution_count": 4,
      "outputs": [],
      "metadata": {
        "jupyter": {
          "source_hidden": false,
          "outputs_hidden": true
        },
        "nteract": {
          "transient": {
            "deleting": false
          }
        }
      },
      "source": [
        "import pandas as pd\r\n",
        "from sklearn.model_selection import train_test_split\r\n",
        "from sklearn.ensemble import RandomForestRegressor, GradientBoostingRegressor\r\n",
        "from sklearn.linear_model import Ridge, LassoCV\r\n",
        "from sklearn.metrics import mean_squared_error\r\n",
        "import numpy as np\r\n",
        "!pip install prophet"
      ]
    },
    {
      "cell_type": "markdown",
      "metadata": {
        "nteract": {
          "transient": {
            "deleting": false
          }
        }
      },
      "source": [
        "## Data Prep"
      ]
    },
    {
      "cell_type": "code",
      "execution_count": 5,
      "outputs": [],
      "metadata": {
        "jupyter": {
          "source_hidden": false,
          "outputs_hidden": false
        },
        "nteract": {
          "transient": {
            "deleting": false
          }
        }
      },
      "source": [
        "df_salestotal = df[['ProductName','InvoiceDate','SalesTotal']]\r\n",
        "df_quantity = df[['ProductName','InvoiceDate','Quantity']]\r\n",
        "df_unitcost = df[['ProductName','InvoiceDate','UnitCost']]\r\n",
        "df_unitprice = df[['ProductName','InvoiceDate','UnitPrice']]"
      ]
    },
    {
      "cell_type": "code",
      "execution_count": 6,
      "outputs": [],
      "metadata": {
        "jupyter": {
          "source_hidden": false,
          "outputs_hidden": true
        },
        "nteract": {
          "transient": {
            "deleting": false
          }
        }
      },
      "source": [
        "df_salestotal.dropna(inplace=True)\r\n",
        "df_quantity.dropna(inplace=True)\r\n",
        "df_unitcost.dropna(inplace=True)\r\n",
        "df_unitprice.dropna(inplace=True)"
      ]
    },
    {
      "cell_type": "code",
      "execution_count": 7,
      "outputs": [],
      "metadata": {
        "jupyter": {
          "source_hidden": false,
          "outputs_hidden": false
        },
        "nteract": {
          "transient": {
            "deleting": false
          }
        }
      },
      "source": [
        "# redefine dtypes for analysis\r\n",
        "df_salestotal = df_salestotal.copy() \r\n",
        "df_quantity = df_quantity.copy() \r\n",
        "df_unitcost = df_unitcost.copy() \r\n",
        "df_unitprice = df_unitprice.copy() \r\n",
        "\r\n",
        "\r\n",
        "df_salestotal['SalesTotal'] = df_salestotal['SalesTotal'].astype(float)\r\n",
        "df_quantity['Quantity'] = df_quantity['Quantity'].astype(float)\r\n",
        "df_unitcost['UnitCost'] = df_unitcost['UnitCost'].astype(float)\r\n",
        "df_unitprice['UnitPrice'] = df_unitprice['UnitPrice'].astype(float)\r\n",
        ""
      ]
    },
    {
      "cell_type": "code",
      "execution_count": 8,
      "outputs": [],
      "metadata": {
        "jupyter": {
          "source_hidden": false,
          "outputs_hidden": false
        },
        "nteract": {
          "transient": {
            "deleting": false
          }
        }
      },
      "source": [
        "# Set to post covid data\r\n",
        "df_salestotal = df_salestotal.loc[df_salestotal['InvoiceDate'] > '2022-01-01']\r\n",
        "df_quantity = df_quantity.loc[df_quantity['InvoiceDate'] > '2022-01-01']\r\n",
        "df_unitcost = df_unitcost.loc[df_unitcost['InvoiceDate'] > '2022-01-01']\r\n",
        "df_unitprice = df_unitprice.loc[df_unitprice['InvoiceDate'] > '2022-01-01'] \r\n",
        ""
      ]
    },
    {
      "cell_type": "code",
      "execution_count": 9,
      "outputs": [],
      "metadata": {
        "jupyter": {
          "source_hidden": false,
          "outputs_hidden": false
        },
        "nteract": {
          "transient": {
            "deleting": false
          }
        }
      },
      "source": [
        "# Convert 'InvoiceDate' column to datetime\r\n",
        "df_salestotal = df_salestotal.copy()\r\n",
        "df_quantity = df_quantity.copy()\r\n",
        "df_unitcost = df_unitcost.copy()\r\n",
        "df_unitprice = df_unitprice.copy()\r\n",
        "\r\n",
        "df_salestotal['InvoiceDate'] = pd.to_datetime(df_salestotal['InvoiceDate'])\r\n",
        "df_quantity['InvoiceDate'] = pd.to_datetime(df_quantity['InvoiceDate'])\r\n",
        "df_unitcost['InvoiceDate'] = pd.to_datetime(df_unitcost['InvoiceDate'])\r\n",
        "df_unitprice['InvoiceDate'] = pd.to_datetime(df_unitprice['InvoiceDate'])\r\n",
        "\r\n",
        "# Set 'InvoiceDate' as the index\r\n",
        "df_salestotal.set_index('InvoiceDate', inplace=True)\r\n",
        "df_quantity.set_index('InvoiceDate', inplace=True)\r\n",
        "df_unitcost.set_index('InvoiceDate', inplace=True)\r\n",
        "df_unitprice.set_index('InvoiceDate', inplace=True)\r\n",
        "\r\n",
        "# Group by 'ProductName' and resample by month, summing up the for each month\r\n",
        "monthly_totalsales = df_salestotal.groupby('ProductName').resample('M').sum().reset_index()\r\n",
        "monthly_quantity = df_quantity.groupby('ProductName').resample('M')['Quantity'].sum().reset_index()\r\n",
        "monthly_unitcost = df_unitcost.groupby('ProductName').resample('M')['UnitCost'].sum().reset_index()\r\n",
        "monthly_unitprice = df_unitprice.groupby('ProductName').resample('M')['UnitPrice'].sum().reset_index()\r\n",
        "\r\n",
        "# Rename columns for clarity\r\n",
        "monthly_totalsales.columns = ['ProductName', 'Month', 'TotalSales']\r\n",
        "monthly_quantity.columns = ['ProductName', 'Month', 'Quantity']\r\n",
        "monthly_unitcost.columns = ['ProductName', 'Month', 'UnitCost']\r\n",
        "monthly_unitprice.columns = ['ProductName', 'Month', 'UnitPrice']\r\n",
        "monthly_revenue = monthly_unitprice.copy()\r\n",
        "monthly_revenue['Revenue'] = monthly_unitprice['UnitPrice'] - monthly_unitcost['UnitCost']\r\n",
        "monthly_revenue.drop(columns=['UnitPrice'],inplace=True)"
      ]
    },
    {
      "cell_type": "code",
      "execution_count": 10,
      "outputs": [],
      "metadata": {
        "jupyter": {
          "source_hidden": false,
          "outputs_hidden": false
        },
        "nteract": {
          "transient": {
            "deleting": false
          }
        }
      },
      "source": [
        "# Create a pivot table\r\n",
        "# Says 'Pivot Table' but this is just the name of the command \r\n",
        "# it is just a table with rows given by the product name \r\n",
        "# and columns given by the available months where the values are the \r\n",
        "# aggregated sales quantities per month\r\n",
        "ds1 = monthly_totalsales.pivot(index='ProductName', columns='Month', values='TotalSales')\r\n",
        "ds2 = monthly_quantity.pivot(index='ProductName', columns='Month', values='Quantity')\r\n",
        "ds3 = monthly_unitcost.pivot(index='ProductName', columns='Month', values='UnitCost')\r\n",
        "ds4 = monthly_unitprice.pivot(index='ProductName', columns='Month', values='UnitPrice')\r\n",
        "ds5 = monthly_revenue.pivot(index='ProductName', columns='Month', values='Revenue')\r\n",
        "\r\n",
        "# Fill missing values with 0\r\n",
        "ds1 = ds1.fillna(0)\r\n",
        "ds2 = ds2.fillna(0)\r\n",
        "ds3 = ds3.fillna(0)\r\n",
        "ds4 = ds4.fillna(0)\r\n",
        "ds5 = ds5.fillna(0)\r\n",
        "\r\n",
        "# ds.set_index('ProductName',inplace=True)\r\n",
        "transpose1 = ds1.transpose()\r\n",
        "transpose2 = ds2.transpose()\r\n",
        "transpose3 = ds3.transpose()\r\n",
        "transpose4 = ds4.transpose()\r\n",
        "transpose5 = ds5.transpose()\r\n",
        "\r\n",
        "# Change index type\r\n",
        "transpose1.index = pd.to_datetime(transpose1.index,format='%Y-%m-%d %H:%M:%S')\r\n",
        "transpose2.index = pd.to_datetime(transpose2.index,format='%Y-%m-%d %H:%M:%S')\r\n",
        "transpose3.index = pd.to_datetime(transpose3.index,format='%Y-%m-%d %H:%M:%S')\r\n",
        "transpose4.index = pd.to_datetime(transpose4.index,format='%Y-%m-%d %H:%M:%S')\r\n",
        "transpose5.index = pd.to_datetime(transpose5.index,format='%Y-%m-%d %H:%M:%S')"
      ]
    },
    {
      "cell_type": "markdown",
      "metadata": {
        "nteract": {
          "transient": {
            "deleting": false
          }
        }
      },
      "source": [
        "## Model1 TotalSales"
      ]
    },
    {
      "cell_type": "code",
      "execution_count": 11,
      "outputs": [],
      "metadata": {
        "jupyter": {
          "source_hidden": false,
          "outputs_hidden": true
        },
        "nteract": {
          "transient": {
            "deleting": false
          }
        }
      },
      "source": [
        "import pandas as pd\r\n",
        "import numpy as np\r\n",
        "from sklearn.metrics import mean_squared_error,r2_score\r\n",
        "from statsmodels.tsa.statespace.sarimax import SARIMAX\r\n",
        "product_df = transpose1\r\n",
        "\r\n",
        "# Define forecasting parameters\r\n",
        "forecast_horizon = 1  # Forecasting for one month ahead\r\n",
        "window_size = 9       # Use the last 9 months for modeling\r\n",
        "\r\n",
        "# # Define target months (from January 2023 to September 2023)\r\n",
        "target_months = transpose1.iloc[transpose1.index >= '2023-01-01'].index\r\n",
        "additional_months = pd.date_range(start = '2023-08-31',end = '2023-10-31',freq='M')\r\n",
        "target_months = target_months.union(additional_months)\r\n",
        "# Initialize a list to store results\r\n",
        "results = []\r\n",
        "\r\n",
        "# Loop through products\r\n",
        "for product in product_df.columns:\r\n",
        "    product_series = product_df[product]\r\n",
        "    # Extract data for modeling, starting from March 2022\r\n",
        "    product_series = product_series.loc['2022-03-01':]\r\n",
        "    # Loop through target months\r\n",
        "    for target_month in target_months:\r\n",
        "        # Select the last 9 months for modeling\r\n",
        "        end_date = target_month - pd.DateOffset(months=1)\r\n",
        "        start_date = end_date - pd.DateOffset(months=window_size-1)\r\n",
        "        training_data = product_series.loc[start_date:end_date]\r\n",
        "        \r\n",
        "        # Fit a SARIMA model \r\n",
        "        sarima_model = SARIMAX(training_data, order=(1, 1, 1), seasonal_order=(1, 1, 1, 12))\r\n",
        "        sarima_fit = sarima_model.fit(disp=False)\r\n",
        "        \r\n",
        "        # Make a forecast for the target month\r\n",
        "        forecast = sarima_fit.forecast(steps=forecast_horizon)\r\n",
        "        \r\n",
        "        # Get the actual value for the target month\r\n",
        "        actual_value = product_series.loc[target_month] if target_month in product_series.index else None\r\n",
        "        # Store results for this product and target month\r\n",
        "        results.append({'Product': product, 'TargetMonth': target_month, 'ActualSalesTotal': actual_value, 'ForecastSalesTotal': forecast.values[0]})\r\n",
        "\r\n",
        "# Create a pandas DataFrame from the results\r\n",
        "salestotal_df = pd.DataFrame(results)\r\n",
        "# salestotal_df['SalesTotalModel'] = 'Model1'\r\n",
        ""
      ]
    },
    {
      "cell_type": "markdown",
      "metadata": {
        "nteract": {
          "transient": {
            "deleting": false
          }
        }
      },
      "source": [
        "## Model1 Quantity"
      ]
    },
    {
      "cell_type": "code",
      "execution_count": 12,
      "outputs": [],
      "metadata": {
        "jupyter": {
          "source_hidden": false,
          "outputs_hidden": true
        },
        "nteract": {
          "transient": {
            "deleting": false
          }
        }
      },
      "source": [
        "import pandas as pd\r\n",
        "import numpy as np\r\n",
        "from sklearn.metrics import mean_squared_error,r2_score\r\n",
        "from statsmodels.tsa.statespace.sarimax import SARIMAX\r\n",
        "product_df = transpose2\r\n",
        "\r\n",
        "# Define forecasting parameters\r\n",
        "forecast_horizon = 1  # Forecasting for one month ahead\r\n",
        "window_size = 9       # Use the last 9 months for modeling\r\n",
        "\r\n",
        "# # Define target months (from January 2023 to September 2023)\r\n",
        "target_months = transpose2.iloc[transpose2.index >= '2023-01-01'].index\r\n",
        "additional_months = pd.date_range(start = '2023-08-31',end = '2023-10-31',freq='M')\r\n",
        "target_months = target_months.union(additional_months)\r\n",
        "# Initialize a list to store results\r\n",
        "results = []\r\n",
        "\r\n",
        "# Loop through products\r\n",
        "for product in product_df.columns:\r\n",
        "    product_series = product_df[product]\r\n",
        "    # Extract data for modeling, starting from March 2022\r\n",
        "    product_series = product_series.loc['2022-03-01':]\r\n",
        "    # Loop through target months\r\n",
        "    for target_month in target_months:\r\n",
        "        # Select the last 9 months for modeling\r\n",
        "        end_date = target_month - pd.DateOffset(months=1)\r\n",
        "        start_date = end_date - pd.DateOffset(months=window_size-1)\r\n",
        "        training_data = product_series.loc[start_date:end_date]\r\n",
        "        \r\n",
        "        # Fit a SARIMA model \r\n",
        "        sarima_model = SARIMAX(training_data, order=(1, 1, 1), seasonal_order=(1, 1, 1, 12))\r\n",
        "        sarima_fit = sarima_model.fit(disp=False)\r\n",
        "        \r\n",
        "        # Make a forecast for the target month\r\n",
        "        forecast = sarima_fit.forecast(steps=forecast_horizon)\r\n",
        "        \r\n",
        "        # Get the actual value for the target month\r\n",
        "        actual_value = product_series.loc[target_month] if target_month in product_series.index else None\r\n",
        "        # Store results for this product and target month\r\n",
        "        results.append({'Product': product, 'TargetMonth': target_month, 'ActualQuantity': actual_value, 'ForecastQuantity': forecast.values[0]})\r\n",
        "\r\n",
        "# Create a pandas DataFrame from the results\r\n",
        "quantity_df = pd.DataFrame(results)\r\n",
        "# quantity_df['QuantityModel'] = 'Model1'\r\n",
        ""
      ]
    },
    {
      "cell_type": "markdown",
      "metadata": {
        "nteract": {
          "transient": {
            "deleting": false
          }
        }
      },
      "source": [
        "## Model1 UnitCost"
      ]
    },
    {
      "cell_type": "code",
      "execution_count": 13,
      "outputs": [],
      "metadata": {
        "jupyter": {
          "source_hidden": false,
          "outputs_hidden": true
        },
        "nteract": {
          "transient": {
            "deleting": false
          }
        }
      },
      "source": [
        "import pandas as pd\r\n",
        "import numpy as np\r\n",
        "from sklearn.metrics import mean_squared_error,r2_score\r\n",
        "from statsmodels.tsa.statespace.sarimax import SARIMAX\r\n",
        "product_df = transpose3\r\n",
        "\r\n",
        "# Define forecasting parameters\r\n",
        "forecast_horizon = 1  # Forecasting for one month ahead\r\n",
        "window_size = 9       # Use the last 9 months for modeling\r\n",
        "\r\n",
        "# # Define target months (from January 2023 to September 2023)\r\n",
        "target_months = transpose3.iloc[transpose3.index >= '2023-01-01'].index\r\n",
        "additional_months = pd.date_range(start = '2023-08-31',end = '2023-10-31',freq='M')\r\n",
        "target_months = target_months.union(additional_months)\r\n",
        "# Initialize a list to store results\r\n",
        "results = []\r\n",
        "\r\n",
        "# Loop through products\r\n",
        "for product in product_df.columns:\r\n",
        "    product_series = product_df[product]\r\n",
        "    # Extract data for modeling, starting from March 2022\r\n",
        "    product_series = product_series.loc['2022-03-01':]\r\n",
        "    # Loop through target months\r\n",
        "    for target_month in target_months:\r\n",
        "        # Select the last 9 months for modeling\r\n",
        "        end_date = target_month - pd.DateOffset(months=1)\r\n",
        "        start_date = end_date - pd.DateOffset(months=window_size-1)\r\n",
        "        training_data = product_series.loc[start_date:end_date]\r\n",
        "        \r\n",
        "        # Fit a SARIMA model \r\n",
        "        sarima_model = SARIMAX(training_data, order=(1, 1, 1), seasonal_order=(1, 1, 1, 12))\r\n",
        "        sarima_fit = sarima_model.fit(disp=False)\r\n",
        "        \r\n",
        "        # Make a forecast for the target month\r\n",
        "        forecast = sarima_fit.forecast(steps=forecast_horizon)\r\n",
        "        \r\n",
        "        # Get the actual value for the target month\r\n",
        "        actual_value = product_series.loc[target_month] if target_month in product_series.index else None\r\n",
        "        # Store results for this product and target month\r\n",
        "        results.append({'Product': product, 'TargetMonth': target_month, 'ActualUnitCost': actual_value, 'ForecastUnitCost': forecast.values[0]})\r\n",
        "\r\n",
        "# Create a pandas DataFrame from the results\r\n",
        "unitcost_df = pd.DataFrame(results)\r\n",
        "# unitcost_df['UnitCostModel'] = 'Model1'"
      ]
    },
    {
      "cell_type": "markdown",
      "metadata": {
        "nteract": {
          "transient": {
            "deleting": false
          }
        }
      },
      "source": [
        "## Model1 UnitPrice"
      ]
    },
    {
      "cell_type": "code",
      "execution_count": 14,
      "outputs": [],
      "metadata": {
        "jupyter": {
          "source_hidden": false,
          "outputs_hidden": true
        },
        "nteract": {
          "transient": {
            "deleting": false
          }
        }
      },
      "source": [
        "import pandas as pd\r\n",
        "import numpy as np\r\n",
        "from sklearn.metrics import mean_squared_error,r2_score\r\n",
        "from statsmodels.tsa.statespace.sarimax import SARIMAX\r\n",
        "product_df = transpose4\r\n",
        "\r\n",
        "# Define forecasting parameters\r\n",
        "forecast_horizon = 1  # Forecasting for one month ahead\r\n",
        "window_size = 9       # Use the last 9 months for modeling\r\n",
        "\r\n",
        "# # Define target months (from January 2023 to September 2023)\r\n",
        "target_months = transpose4.iloc[transpose4.index >= '2023-01-01'].index\r\n",
        "additional_months = pd.date_range(start = '2023-08-31',end = '2023-10-31',freq='M')\r\n",
        "target_months = target_months.union(additional_months)\r\n",
        "# Initialize a list to store results\r\n",
        "results = []\r\n",
        "\r\n",
        "# Loop through products\r\n",
        "for product in product_df.columns:\r\n",
        "    product_series = product_df[product]\r\n",
        "    # Extract data for modeling, starting from March 2022\r\n",
        "    product_series = product_series.loc['2022-03-01':]\r\n",
        "    # Loop through target months\r\n",
        "    for target_month in target_months:\r\n",
        "        # Select the last 9 months for modeling\r\n",
        "        end_date = target_month - pd.DateOffset(months=1)\r\n",
        "        start_date = end_date - pd.DateOffset(months=window_size-1)\r\n",
        "        training_data = product_series.loc[start_date:end_date]\r\n",
        "        \r\n",
        "        # Fit a SARIMA model \r\n",
        "        sarima_model = SARIMAX(training_data, order=(1, 1, 1), seasonal_order=(1, 1, 1, 12))\r\n",
        "        sarima_fit = sarima_model.fit(disp=False)\r\n",
        "        \r\n",
        "        # Make a forecast for the target month\r\n",
        "        forecast = sarima_fit.forecast(steps=forecast_horizon)\r\n",
        "        \r\n",
        "        # Get the actual value for the target month\r\n",
        "        actual_value = product_series.loc[target_month] if target_month in product_series.index else None\r\n",
        "        # Store results for this product and target month\r\n",
        "        results.append({'Product': product, 'TargetMonth': target_month, 'ActualUnitPrice': actual_value, 'ForecastUnitPrice': forecast.values[0]})\r\n",
        "\r\n",
        "# Create a pandas DataFrame from the results\r\n",
        "unitprice_df = pd.DataFrame(results)\r\n",
        "# unitprice_df['UnitPriceModel'] = 'Model1'"
      ]
    },
    {
      "cell_type": "markdown",
      "metadata": {
        "nteract": {
          "transient": {
            "deleting": false
          }
        }
      },
      "source": [
        "## Model1 Revenue"
      ]
    },
    {
      "cell_type": "code",
      "execution_count": 15,
      "outputs": [],
      "metadata": {
        "jupyter": {
          "source_hidden": false,
          "outputs_hidden": true
        },
        "nteract": {
          "transient": {
            "deleting": false
          }
        }
      },
      "source": [
        "import pandas as pd\r\n",
        "import numpy as np\r\n",
        "from sklearn.metrics import mean_squared_error,r2_score\r\n",
        "from statsmodels.tsa.statespace.sarimax import SARIMAX\r\n",
        "product_df = transpose5\r\n",
        "\r\n",
        "# Define forecasting parameters\r\n",
        "forecast_horizon = 1  # Forecasting for one month ahead\r\n",
        "window_size = 9       # Use the last 9 months for modeling\r\n",
        "\r\n",
        "# # Define target months (from January 2023 to September 2023)\r\n",
        "target_months = transpose5.iloc[transpose5.index >= '2023-01-01'].index\r\n",
        "additional_months = pd.date_range(start = '2023-08-31',end = '2023-10-31',freq='M')\r\n",
        "target_months = target_months.union(additional_months)\r\n",
        "# Initialize a list to store results\r\n",
        "results = []\r\n",
        "\r\n",
        "# Loop through products\r\n",
        "for product in product_df.columns:\r\n",
        "    product_series = product_df[product]\r\n",
        "    # Extract data for modeling, starting from March 2022\r\n",
        "    product_series = product_series.loc['2022-03-01':]\r\n",
        "    # Loop through target months\r\n",
        "    for target_month in target_months:\r\n",
        "        # Select the last 9 months for modeling\r\n",
        "        end_date = target_month - pd.DateOffset(months=1)\r\n",
        "        start_date = end_date - pd.DateOffset(months=window_size-1)\r\n",
        "        training_data = product_series.loc[start_date:end_date]\r\n",
        "        \r\n",
        "        # Fit a SARIMA model \r\n",
        "        sarima_model = SARIMAX(training_data, order=(1, 1, 1), seasonal_order=(1, 1, 1, 12))\r\n",
        "        sarima_fit = sarima_model.fit(disp=False)\r\n",
        "        \r\n",
        "        # Make a forecast for the target month\r\n",
        "        forecast = sarima_fit.forecast(steps=forecast_horizon)\r\n",
        "        \r\n",
        "        # Get the actual value for the target month\r\n",
        "        actual_value = product_series.loc[target_month] if target_month in product_series.index else None\r\n",
        "        # Store results for this product and target month\r\n",
        "        results.append({'Product': product, 'TargetMonth': target_month, 'ActualRevenue': actual_value, 'ForecastRevenue': forecast.values[0]})\r\n",
        "\r\n",
        "# Create a pandas DataFrame from the results\r\n",
        "revenue_df = pd.DataFrame(results)\r\n",
        "# unitprice_df['UnitPriceModel'] = 'Model1'"
      ]
    },
    {
      "cell_type": "markdown",
      "metadata": {
        "nteract": {
          "transient": {
            "deleting": false
          }
        }
      },
      "source": [
        "# Create final dataframe with all forecasting info"
      ]
    },
    {
      "cell_type": "code",
      "execution_count": 16,
      "outputs": [],
      "metadata": {
        "jupyter": {
          "source_hidden": false,
          "outputs_hidden": false
        },
        "nteract": {
          "transient": {
            "deleting": false
          }
        }
      },
      "source": [
        "dfs1 = [salestotal_df,quantity_df,unitcost_df,unitprice_df,revenue_df]\r\n",
        "final_df1 = pd.concat(dfs1,axis='columns')\r\n",
        "final_df1 = final_df1.loc[:,~final_df1.columns.duplicated()]\r\n",
        "final_df1['Model'] = 'Model1'\r\n",
        "final_df1"
      ]
    },
    {
      "cell_type": "code",
      "execution_count": 17,
      "outputs": [],
      "metadata": {
        "jupyter": {
          "source_hidden": false,
          "outputs_hidden": false
        },
        "nteract": {
          "transient": {
            "deleting": false
          }
        }
      },
      "source": [
        "final_df1.fillna(0,inplace=True)"
      ]
    },
    {
      "cell_type": "markdown",
      "metadata": {
        "nteract": {
          "transient": {
            "deleting": false
          }
        }
      },
      "source": [
        "## Create template for D365"
      ]
    },
    {
      "cell_type": "code",
      "execution_count": 18,
      "outputs": [],
      "metadata": {
        "jupyter": {
          "source_hidden": false,
          "outputs_hidden": false
        },
        "nteract": {
          "transient": {
            "deleting": false
          }
        }
      },
      "source": [
        "# final_df3.to_csv('forecastmodel3.txt',sep='\\t',index=False)"
      ]
    },
    {
      "cell_type": "code",
      "execution_count": 19,
      "outputs": [],
      "metadata": {
        "jupyter": {
          "source_hidden": false,
          "outputs_hidden": false
        },
        "nteract": {
          "transient": {
            "deleting": false
          }
        }
      },
      "source": [
        "# container_directory = \"\"\r\n",
        "# %cd $container_directory"
      ]
    },
    {
      "cell_type": "code",
      "execution_count": 20,
      "outputs": [],
      "metadata": {
        "jupyter": {
          "source_hidden": false,
          "outputs_hidden": false
        },
        "nteract": {
          "transient": {
            "deleting": false
          }
        }
      },
      "source": [
        "# import os\r\n",
        "# current_directory = os.getcwd()\r\n",
        "# current_directory"
      ]
    },
    {
      "cell_type": "code",
      "execution_count": 21,
      "outputs": [],
      "metadata": {
        "jupyter": {
          "source_hidden": false,
          "outputs_hidden": false
        },
        "nteract": {
          "transient": {
            "deleting": false
          }
        }
      },
      "source": [
        "# %ls"
      ]
    },
    {
      "cell_type": "code",
      "execution_count": 22,
      "outputs": [],
      "metadata": {
        "jupyter": {
          "source_hidden": false,
          "outputs_hidden": false
        },
        "nteract": {
          "transient": {
            "deleting": false
          }
        }
      },
      "source": [
        "# file_path = '/mnt/var/hadoop/tmp/nm-local-dir/usercache/trusted-service-user/appcache/application_1695909286640_0004/container_1695909286640_0004_01_000001/forecastmodel3.txt'\r\n",
        "# with open(file_path,'r') as file:\r\n",
        "#     file_contents = file.read()\r\n",
        "# print(file_contents)"
      ]
    },
    {
      "cell_type": "code",
      "execution_count": 23,
      "outputs": [],
      "metadata": {
        "jupyter": {
          "source_hidden": false,
          "outputs_hidden": false
        },
        "nteract": {
          "transient": {
            "deleting": false
          }
        }
      },
      "source": [
        "# try:\r\n",
        "#     os.remove(file_path)\r\n",
        "#     print(f\"File '{file_path}' has been deleted.\")\r\n",
        "# except FileNotFoundError:\r\n",
        "#     print(f\"File '{file_path}' does not exist.\")\r\n",
        "# except Exception as e:\r\n",
        "#     print(f\"An error occurred '{str(e)}\")\r\n",
        ""
      ]
    },
    {
      "cell_type": "markdown",
      "metadata": {
        "nteract": {
          "transient": {
            "deleting": false
          }
        }
      },
      "source": [
        "# Import final dataframe into combined_gold"
      ]
    },
    {
      "cell_type": "code",
      "execution_count": 24,
      "outputs": [],
      "metadata": {
        "jupyter": {
          "source_hidden": false,
          "outputs_hidden": false
        },
        "nteract": {
          "transient": {
            "deleting": false
          }
        }
      },
      "source": [
        "# turn pd dataframe into sparks df then into a view that sql can take\r\n",
        "from pyspark.sql.functions import col\r\n",
        "\r\n",
        "\r\n",
        "spark_df = spark.createDataFrame(final_df1)\r\n",
        "\r\n",
        "\r\n",
        "spark_df = spark_df.select([col(c).alias(\r\n",
        "        c.replace( '(', '')\r\n",
        "        .replace( ')', '')\r\n",
        "        .replace( ',', '')\r\n",
        "        .replace( ';', '')\r\n",
        "        .replace( '{', '')\r\n",
        "        .replace( '}', '')\r\n",
        "        .replace( '\\n', '')\r\n",
        "        .replace( '\\t', '')\r\n",
        "        .replace( ' ', '_')\r\n",
        "    ) for c in spark_df.columns])\r\n",
        "\r\n",
        "spark_df.createOrReplaceTempView(\"temp_view\")"
      ]
    },
    {
      "cell_type": "code",
      "execution_count": 25,
      "outputs": [],
      "metadata": {
        "jupyter": {
          "source_hidden": false,
          "outputs_hidden": false
        },
        "nteract": {
          "transient": {
            "deleting": false
          }
        }
      },
      "source": [
        "#setting spark configuration \r\n",
        "\r\n",
        "spark.conf.set(\"spark.databricks.delta.schema.autoMerge.enabled\",\"true\")"
      ]
    },
    {
      "cell_type": "code",
      "execution_count": 26,
      "outputs": [],
      "metadata": {
        "jupyter": {
          "source_hidden": false,
          "outputs_hidden": true
        },
        "nteract": {
          "transient": {
            "deleting": false
          }
        },
        "microsoft": {
          "language": "sparksql"
        },
        "collapsed": false
      },
      "source": [
        "%%sql\r\n",
        "\r\n",
        "select * from temp_view"
      ]
    },
    {
      "cell_type": "code",
      "execution_count": 27,
      "outputs": [],
      "metadata": {
        "jupyter": {
          "source_hidden": false,
          "outputs_hidden": true
        },
        "nteract": {
          "transient": {
            "deleting": false
          }
        },
        "microsoft": {
          "language": "sparksql"
        },
        "collapsed": false
      },
      "source": [
        "%%sql\r\n",
        "\r\n",
        "DROP Table IF Exists combined_gold.forecastmodel1;\r\n",
        "\r\n",
        "CREATE TABLE combined_gold.forecastmodel1\r\n",
        "   USING DELTA;\r\n",
        "\r\n",
        " INSERT INTO combined_gold.forecastmodel1\r\n",
        "\r\n",
        " SELECT *\r\n",
        " FROM temp_view"
      ]
    },
    {
      "cell_type": "code",
      "execution_count": 28,
      "outputs": [],
      "metadata": {
        "jupyter": {
          "source_hidden": false,
          "outputs_hidden": false
        },
        "nteract": {
          "transient": {
            "deleting": false
          }
        },
        "microsoft": {
          "language": "sparksql"
        },
        "collapsed": false
      },
      "source": [
        "%%sql\r\n",
        "\r\n",
        "SELECT * FROM combined_gold.forecastmodel1;"
      ]
    }
  ]
}